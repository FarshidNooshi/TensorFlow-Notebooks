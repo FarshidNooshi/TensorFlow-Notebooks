{
 "cells": [
  {
   "cell_type": "markdown",
   "metadata": {},
   "source": [
    "<a href=\"https://colab.research.google.com/github/https-deeplearning-ai/tensorflow-1-public/blob/main/C4/W1/ungraded_labs/C4_W1_Lab_2_forecasting.ipynb\" target=\"_parent\"><img src=\"https://colab.research.google.com/assets/colab-badge.svg\" alt=\"Open In Colab\"/></a>"
   ]
  },
  {
   "cell_type": "markdown",
   "metadata": {
    "id": "HrvQysecM9my"
   },
   "source": [
    "# Ungraded Lab: Statistical Forecasting on Synthetic Data\n",
    "\n",
    "In this lab, you will be doing some statistical forecasting so you can compare it with the machine learning models you will build later on. "
   ]
  },
  {
   "cell_type": "markdown",
   "metadata": {
    "id": "I9x4GjlEVTQN"
   },
   "source": [
    "## Imports\n",
    "\n",
    "You will first import the packages you will need to execute all the code in this lab. You will use:\n",
    "* [Tensorflow](https://www.tensorflow.org/api_docs/python/tf) to build your model and prepare data windows\n",
    "* [Numpy](https://numpy.org/) for numerical processing\n",
    "* and Matplotlib's [PyPlot](https://matplotlib.org/3.5.1/api/_as_gen/matplotlib.pyplot.html) library for visualization"
   ]
  },
  {
   "cell_type": "code",
   "execution_count": null,
   "metadata": {
    "id": "L1EqtpHwMhD2"
   },
   "outputs": [],
   "source": [
    "import tensorflow as tf\n",
    "import numpy as np\n",
    "import matplotlib.pyplot as plt"
   ]
  },
  {
   "cell_type": "markdown",
   "metadata": {
    "id": "tzdoFsd3NRX5"
   },
   "source": [
    "## Utilities\n",
    "\n",
    "You will then define some utility functions to make the code more organized. First up is the plotting function you also used in the previous lab."
   ]
  },
  {
   "cell_type": "code",
   "execution_count": null,
   "metadata": {
    "id": "Wpo1S0UfRyoc"
   },
   "outputs": [],
   "source": [
    "def plot_series(time, series, format=\"-\", start=0, end=None):\n",
    "    \"\"\"\n",
    "    Visualizes time series data\n",
    "\n",
    "    Args:\n",
    "      time (array of int) - contains the time steps\n",
    "      series (array of int) - contains the measurements for each time step\n",
    "      format - line style when plotting the graph\n",
    "      label - tag for the line\n",
    "      start - first time step to plot\n",
    "      end - last time step to plot\n",
    "    \"\"\"\n",
    "\n",
    "    # Setup dimensions of the graph figure\n",
    "    plt.figure(figsize=(10, 6))\n",
    "    \n",
    "    if type(series) is tuple:\n",
    "\n",
    "      for series_num in series:\n",
    "        # Plot the time series data\n",
    "        plt.plot(time[start:end], series_num[start:end], format)\n",
    "\n",
    "    else:\n",
    "      # Plot the time series data\n",
    "      plt.plot(time[start:end], series[start:end], format)\n",
    "\n",
    "    # Label the x-axis\n",
    "    plt.xlabel(\"Time\")\n",
    "\n",
    "    # Label the y-axis\n",
    "    plt.ylabel(\"Value\")\n",
    "\n",
    "    # Overlay a grid on the graph\n",
    "    plt.grid(True)\n",
    "\n",
    "    # Draw the graph on screen\n",
    "    plt.show()"
   ]
  },
  {
   "cell_type": "markdown",
   "metadata": {
    "id": "Nk1l6rCEwFK1"
   },
   "source": [
    "You will also place the functions to generate your synthetic data here. For this lab, you will just need trend, seasonality, and noise. Feel free to add others later in case you want a more challenging task."
   ]
  },
  {
   "cell_type": "code",
   "execution_count": null,
   "metadata": {
    "id": "Gos26mZwwF66"
   },
   "outputs": [],
   "source": [
    "def trend(time, slope=0):\n",
    "    \"\"\"\n",
    "    Generates synthetic data that follows a straight line given a slope value.\n",
    "\n",
    "    Args:\n",
    "      time (array of int) - contains the time steps\n",
    "      slope (float) - determines the direction and steepness of the line\n",
    "\n",
    "    Returns:\n",
    "      series (array of float) - measurements that follow a straight line\n",
    "    \"\"\"\n",
    "\n",
    "    # Compute the linear series given the slope\n",
    "    series = slope * time\n",
    "\n",
    "    return series\n",
    "\n",
    "def seasonal_pattern(season_time):\n",
    "    \"\"\"\n",
    "    Just an arbitrary pattern, you can change it if you wish\n",
    "    \n",
    "    Args:\n",
    "      season_time (array of float) - contains the measurements per time step\n",
    "\n",
    "    Returns:\n",
    "      data_pattern (array of float) -  contains revised measurement values according \n",
    "                                  to the defined pattern\n",
    "    \"\"\"\n",
    "\n",
    "    # Generate the values using an arbitrary pattern\n",
    "    data_pattern = np.where(season_time < 0.4,\n",
    "                    np.cos(season_time * 2 * np.pi),\n",
    "                    1 / np.exp(3 * season_time))\n",
    "    \n",
    "    return data_pattern\n",
    "\n",
    "def seasonality(time, period, amplitude=1, phase=0):\n",
    "    \"\"\"\n",
    "    Repeats the same pattern at each period\n",
    "\n",
    "    Args:\n",
    "      time (array of int) - contains the time steps\n",
    "      period (int) - number of time steps before the pattern repeats\n",
    "      amplitude (int) - peak measured value in a period\n",
    "      phase (int) - number of time steps to shift the measured values\n",
    "\n",
    "    Returns:\n",
    "      data_pattern (array of float) - seasonal data scaled by the defined amplitude\n",
    "    \"\"\"\n",
    "    \n",
    "    # Define the measured values per period\n",
    "    season_time = ((time + phase) % period) / period\n",
    "\n",
    "    # Generates the seasonal data scaled by the defined amplitude\n",
    "    data_pattern = amplitude * seasonal_pattern(season_time)\n",
    "\n",
    "    return data_pattern\n",
    "\n",
    "def noise(time, noise_level=1, seed=None):\n",
    "    \"\"\"Generates a normally distributed noisy signal\n",
    "\n",
    "    Args:\n",
    "      time (array of int) - contains the time steps\n",
    "      noise_level (float) - scaling factor for the generated signal\n",
    "      seed (int) - number generator seed for repeatability\n",
    "\n",
    "    Returns:\n",
    "      noise (array of float) - the noisy signal\n",
    "    \"\"\"\n",
    "\n",
    "    # Initialize the random number generator\n",
    "    rnd = np.random.RandomState(seed)\n",
    "\n",
    "    # Generate a random number for each time step and scale by the noise level\n",
    "    noise = rnd.randn(len(time)) * noise_level\n",
    "    \n",
    "    return noise"
   ]
  },
  {
   "cell_type": "markdown",
   "metadata": {
    "id": "RsI6IxHvNXmF"
   },
   "source": [
    "## Generate the synthetic data\n",
    "\n",
    "You can then use the utility functions above to generate the synthetic data. This will start at a baseline then trend upwards with a seasonal pattern every 365 steps. You will also add some noise because real world data is often noisy as well."
   ]
  },
  {
   "cell_type": "code",
   "execution_count": null,
   "metadata": {
    "id": "gqWabzlJ63nL"
   },
   "outputs": [],
   "source": [
    "# Parameters\n",
    "time = np.arange(4 * 365 + 1, dtype=\"float32\")\n",
    "baseline = 10\n",
    "amplitude = 40\n",
    "slope = 0.05\n",
    "noise_level = 5\n",
    "\n",
    "# Create the series\n",
    "series = baseline + trend(time, slope) + seasonality(time, period=365, amplitude=amplitude)\n",
    "\n",
    "# Update with noise\n",
    "series += noise(time, noise_level, seed=42)\n",
    "\n",
    "# Plot the results\n",
    "plot_series(time, series)"
   ]
  },
  {
   "cell_type": "markdown",
   "metadata": {
    "id": "UfdyqJJ1VZVu"
   },
   "source": [
    "## Split the Dataset\n",
    "\n",
    "Next up, you will split the data above into training and validation sets. You will take the first 1,000 points for training while the rest is for validation."
   ]
  },
  {
   "cell_type": "code",
   "execution_count": null,
   "metadata": {
    "id": "_w0eKap5uFNP"
   },
   "outputs": [],
   "source": [
    "# Define the split time\n",
    "split_time = 1000\n",
    "\n",
    "# Get the train set \n",
    "time_train = time[:split_time]\n",
    "x_train = series[:split_time]\n",
    "\n",
    "# Get the validation set\n",
    "time_valid = time[split_time:]\n",
    "x_valid = series[split_time:]"
   ]
  },
  {
   "cell_type": "markdown",
   "metadata": {
    "id": "dLs01JDDzDun"
   },
   "source": [
    "You can inspect these sets visually by using the same utility function for plotting. Notice that in general, the validation set has higher values (i.e. y-axis) than those in the training set. Your model should be able to predict those values just by learning from the trend and seasonality of the training set."
   ]
  },
  {
   "cell_type": "code",
   "execution_count": null,
   "metadata": {
    "id": "qH84AOTOSnxr"
   },
   "outputs": [],
   "source": [
    "# Plot the train set\n",
    "plot_series(time_train, x_train)"
   ]
  },
  {
   "cell_type": "code",
   "execution_count": null,
   "metadata": {
    "id": "YS3D4YpqSl3n"
   },
   "outputs": [],
   "source": [
    "# Plot the validation set\n",
    "plot_series(time_valid, x_valid)"
   ]
  },
  {
   "cell_type": "markdown",
   "metadata": {
    "id": "bjD8ncEZbjEW"
   },
   "source": [
    "# Naive Forecast\n",
    "\n",
    "As a baseline, you can do a naive forecast where you assume that the next value will be the same as the previous time step. You can slice the original series like below and print some values as a sanity check. The next time step value should be identical to the ground truth at the previous time step."
   ]
  },
  {
   "cell_type": "code",
   "execution_count": null,
   "metadata": {
    "id": "Pj_-uCeYxcAb"
   },
   "outputs": [],
   "source": [
    "# Generate the naive forecast\n",
    "naive_forecast = series[split_time - 1:-1]\n",
    "\n",
    "# Define time step\n",
    "time_step = 100\n",
    "\n",
    "# Print values\n",
    "print(f'ground truth at time step {time_step}: {x_valid[time_step]}')\n",
    "print(f'prediction at time step {time_step + 1}: {naive_forecast[time_step + 1]}')\n"
   ]
  },
  {
   "cell_type": "markdown",
   "metadata": {
    "id": "YtGUyT3B2PT6"
   },
   "source": [
    "You can see this visually with the `plot_series()` function you defined earlier."
   ]
  },
  {
   "cell_type": "code",
   "execution_count": null,
   "metadata": {
    "id": "Vk51IA7z1Ym9"
   },
   "outputs": [],
   "source": [
    "# Plot the results\n",
    "plot_series(time_valid, (x_valid, naive_forecast))"
   ]
  },
  {
   "cell_type": "markdown",
   "metadata": {
    "id": "Jn-IT9pWZ1xQ"
   },
   "source": [
    "You can zoom in at the start of the validation period to see that the naive forecast lags 1 step behind the time series."
   ]
  },
  {
   "cell_type": "code",
   "execution_count": null,
   "metadata": {
    "id": "D0MKg7FNug9V"
   },
   "outputs": [],
   "source": [
    "# Zooming in\n",
    "plot_series(time_valid, (x_valid, naive_forecast), start=0, end=150)"
   ]
  },
  {
   "cell_type": "markdown",
   "metadata": {
    "id": "Uh_7244Gsxfx"
   },
   "source": [
    "### Computing Metrics\n",
    "\n",
    "Now you will compute the [mean squared error](https://www.tensorflow.org/api_docs/python/tf/keras/metrics/mean_squared_error) and the [mean absolute error](https://www.tensorflow.org/api_docs/python/tf/keras/metrics/mean_absolute_error) between the forecasts and the predictions in the validation period. These are available via the [`tf.keras.metrics`](https://www.tensorflow.org/api_docs/python/tf/keras/metrics/) API. "
   ]
  },
  {
   "cell_type": "code",
   "execution_count": null,
   "metadata": {
    "id": "byNnC7IbsnMZ"
   },
   "outputs": [],
   "source": [
    "print(tf.keras.metrics.mean_squared_error(x_valid, naive_forecast).numpy())\n",
    "print(tf.keras.metrics.mean_absolute_error(x_valid, naive_forecast).numpy())"
   ]
  },
  {
   "cell_type": "markdown",
   "metadata": {
    "id": "goTJyTdw3PP5"
   },
   "source": [
    "The values above will be your baseline and you will see if you can use other methods to do better than naive forecasting."
   ]
  },
  {
   "cell_type": "markdown",
   "metadata": {
    "id": "WGPBC9QttI1u"
   },
   "source": [
    "## Moving Average\n",
    "\n",
    "One technique you can use is to do a moving average. This sums up a series of time steps and the average will be the prediction for the next time step. For example, the average of the measurements at time steps 1 to 10 will be the forecast for time step 11, then the average for time steps 2 to 11 will be the forecast for time step 12, and so on.\n",
    "\n",
    "The function below does the moving average for the entire `series`. It takes a `window_size` argument to indicate the number of time steps to consider when computing the mean."
   ]
  },
  {
   "cell_type": "code",
   "execution_count": null,
   "metadata": {
    "id": "YGz5UsUdf2tV"
   },
   "outputs": [],
   "source": [
    "def moving_average_forecast(series, window_size):\n",
    "    \"\"\"Generates a moving average forecast\n",
    "\n",
    "    Args:\n",
    "      series (array of float) - contains the values of the time series\n",
    "      window_size (int) - the number of time steps to compute the average for\n",
    "\n",
    "    Returns:\n",
    "      forecast (array of float) - the moving average forecast\n",
    "    \"\"\"\n",
    "\n",
    "    # Initialize a list\n",
    "    forecast = []\n",
    "    \n",
    "    # Compute the moving average based on the window size\n",
    "    for time in range(len(series) - window_size):\n",
    "      forecast.append(series[time:time + window_size].mean())\n",
    "    \n",
    "    # Convert to a numpy array\n",
    "    forecast = np.array(forecast)\n",
    "\n",
    "    return forecast"
   ]
  },
  {
   "cell_type": "markdown",
   "metadata": {
    "id": "pjiVlKXA5UXK"
   },
   "source": [
    "You will use this function to generate the forecast with a window size of `30`."
   ]
  },
  {
   "cell_type": "code",
   "execution_count": null,
   "metadata": {
    "id": "HHFhGXQji7_r"
   },
   "outputs": [],
   "source": [
    "# Generate the moving average forecast\n",
    "moving_avg = moving_average_forecast(series, 30)[split_time - 30:]\n",
    "\n",
    "# Plot the results\n",
    "plot_series(time_valid, (x_valid, moving_avg))"
   ]
  },
  {
   "cell_type": "code",
   "execution_count": null,
   "metadata": {
    "id": "wG7pTAd7z0e8"
   },
   "outputs": [],
   "source": [
    "# Compute the metrics\n",
    "print(tf.keras.metrics.mean_squared_error(x_valid, moving_avg).numpy())\n",
    "print(tf.keras.metrics.mean_absolute_error(x_valid, moving_avg).numpy())"
   ]
  },
  {
   "cell_type": "markdown",
   "metadata": {
    "id": "JMYPnJqwz8nS"
   },
   "source": [
    "That's worse than naive forecast! The moving average does not anticipate trend or seasonality. In particular, those huge spikes in the original series causes big deviations as shown in the plot above. You will try to remove these characteristics of the dataset with time differencing and see if you get better results."
   ]
  },
  {
   "cell_type": "markdown",
   "metadata": {
    "id": "eTD4ATkFYNZp"
   },
   "source": [
    "## Differencing\n",
    "\n",
    "Since the seasonality period is 365 days, you will subtract the value at time *t* – 365 from the value at time *t*. That is done with the code below. \n",
    "\n",
    "In addition, you will need to align the result with the `time` array. Since you can only do time differencing for `t >= 365`, you will need to truncate the first 365 time steps of the `time` array.\n",
    "\n",
    "You can plot the result to visualize the values."
   ]
  },
  {
   "cell_type": "code",
   "execution_count": null,
   "metadata": {
    "id": "5pqySF7-rJR4"
   },
   "outputs": [],
   "source": [
    "# Subtract the values at t-365 from original series\n",
    "diff_series = (series[365:] - series[:-365])\n",
    "\n",
    "# Truncate the first 365 time steps\n",
    "diff_time = time[365:]\n",
    "\n",
    "# Plot the results\n",
    "plot_series(diff_time, diff_series)"
   ]
  },
  {
   "cell_type": "markdown",
   "metadata": {
    "id": "xPlPlS7DskWg"
   },
   "source": [
    "Great! The trend and seasonality seem to be gone so now you can retry using the moving average. `diff_series` is the ground truth while `diff_moving_avg` is the prediction array. You will slice these accordingly to correspond to the validation set time steps before comparing."
   ]
  },
  {
   "cell_type": "code",
   "execution_count": null,
   "metadata": {
    "id": "QmZpz7arsjbb"
   },
   "outputs": [],
   "source": [
    "# Generate moving average from the time differenced dataset\n",
    "diff_moving_avg = moving_average_forecast(diff_series, 30)\n",
    "\n",
    "# Slice the prediction points that corresponds to the validation set time steps\n",
    "diff_moving_avg = diff_moving_avg[split_time - 365 - 30:]\n",
    "\n",
    "# Slice the ground truth points that corresponds to the validation set time steps\n",
    "diff_series = diff_series[split_time - 365:]\n",
    "\n",
    "# Plot the results\n",
    "plot_series(time_valid, (diff_series, diff_moving_avg))"
   ]
  },
  {
   "cell_type": "markdown",
   "metadata": {
    "id": "Gno9S2lyecnc"
   },
   "source": [
    "Now you will bring bring back the trend and seasonality by adding the past values from `t – 365`:"
   ]
  },
  {
   "cell_type": "code",
   "execution_count": null,
   "metadata": {
    "id": "Dv6RWFq7TFGB"
   },
   "outputs": [],
   "source": [
    "# Add the trend and seasonality from the original series\n",
    "diff_moving_avg_plus_past = series[split_time - 365:-365] + diff_moving_avg\n",
    "\n",
    "# Plot the results\n",
    "plot_series(time_valid, (x_valid, diff_moving_avg_plus_past))"
   ]
  },
  {
   "cell_type": "code",
   "execution_count": null,
   "metadata": {
    "id": "59jmBrwcTFCx"
   },
   "outputs": [],
   "source": [
    "print(tf.keras.metrics.mean_squared_error(x_valid, diff_moving_avg_plus_past).numpy())\n",
    "print(tf.keras.metrics.mean_absolute_error(x_valid, diff_moving_avg_plus_past).numpy())"
   ]
  },
  {
   "cell_type": "markdown",
   "metadata": {
    "id": "WYAa521hAeiC"
   },
   "source": [
    "It is a bit better than naive forecast. However, the forecasts look a bit too random because you're adding past values which are already noisy. Remember that the time differenced signal is also noisy so adding these raw past values can compound this problem. To remedy that, you can use a moving averaging on past values to smooth out some of this noise."
   ]
  },
  {
   "cell_type": "markdown",
   "metadata": {
    "id": "vx9Et1Hkeusl"
   },
   "source": [
    "## Smoothing\n",
    "\n",
    "You can use the same `moving_average_forecast()` function to smooth out past values before adding them back to the time differenced moving average. There are two ways to do this:\n",
    "\n",
    "* Trailing windows - This refers to getting the mean of past values to smooth out the value at the current time step. For example, getting the average of `t=0` to `t=6` to get the smoothed data point at **`t=6`**.\n",
    "\n",
    "* Centered windows - This refers to getting the mean of past *and future* values to smooth out the value at the current time step. For example, getting the average of `t=0` to `t=6` to get the smoothed data point at **`t=3`**.\n",
    "\n",
    "The code below will use the centered windows approach and you will notice it in the slicing of the `series` array. It is shifted by `370` steps and the window size is `11`. To get the smooth data point at `t=1000` (i.e. start of the validation set), it will average the measurements at `t=995` to `t=1005`."
   ]
  },
  {
   "cell_type": "code",
   "execution_count": null,
   "metadata": {
    "id": "K81dtROoTE_r"
   },
   "outputs": [],
   "source": [
    "# Smooth the original series before adding the time differenced moving average\n",
    "diff_moving_avg_plus_smooth_past = moving_average_forecast(series[split_time - 370:-359], 11) + diff_moving_avg\n",
    "\n",
    "# Plot the results\n",
    "plot_series(time_valid, (x_valid, diff_moving_avg_plus_smooth_past))"
   ]
  },
  {
   "cell_type": "markdown",
   "metadata": {
    "id": "feGsr5IBD6c2"
   },
   "source": [
    "The metrics will show a big improvement over the previous output."
   ]
  },
  {
   "cell_type": "code",
   "execution_count": null,
   "metadata": {
    "id": "iN2MsBxWTE3m"
   },
   "outputs": [],
   "source": [
    " # Compute the metrics\n",
    "print(tf.keras.metrics.mean_squared_error(x_valid, diff_moving_avg_plus_smooth_past).numpy())\n",
    "print(tf.keras.metrics.mean_absolute_error(x_valid, diff_moving_avg_plus_smooth_past).numpy())"
   ]
  },
  {
   "cell_type": "markdown",
   "metadata": {
    "id": "SHTiSidU-b8g"
   },
   "source": [
    "## Wrap Up\n",
    "\n",
    "This concludes a short exploration of statistical methods for time series forecasting. In the next labs, you will build neural networks for forecasting and see if you get comparable results to the techniques you just used in this lab."
   ]
  }
 ],
 "metadata": {
  "colab": {
   "collapsed_sections": [],
   "name": "C4_W1_Lab_2_forecasting.ipynb",
   "private_outputs": true,
   "provenance": []
  },
  "kernelspec": {
   "display_name": "Python 3",
   "language": "python",
   "name": "python3"
  },
  "language_info": {
   "codemirror_mode": {
    "name": "ipython",
    "version": 3
   },
   "file_extension": ".py",
   "mimetype": "text/x-python",
   "name": "python",
   "nbconvert_exporter": "python",
   "pygments_lexer": "ipython3",
   "version": "3.7.4"
  }
 },
 "nbformat": 4,
 "nbformat_minor": 1
}
