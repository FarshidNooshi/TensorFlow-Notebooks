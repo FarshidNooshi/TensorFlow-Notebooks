{
 "cells": [
  {
   "cell_type": "markdown",
   "id": "82415abd",
   "metadata": {
    "id": "SBoMk_Knl-D0"
   },
   "source": [
    "# Week 1: Working with time series\n",
    "\n",
    "Welcome! In this assignment you will be working with time series data. All of the data is going to be generated and you will implement several functions to split the data, create forecasts and evaluate the quality of those forecasts.\n",
    "\n",
    "\n",
    "Let's get started!"
   ]
  },
  {
   "cell_type": "code",
   "execution_count": null,
   "id": "cbcea2e3",
   "metadata": {
    "id": "t9HrvPfrSlzS"
   },
   "outputs": [],
   "source": [
    "import numpy as np\n",
    "import tensorflow as tf\n",
    "from tensorflow import keras\n",
    "import matplotlib.pyplot as plt"
   ]
  },
  {
   "cell_type": "markdown",
   "id": "d30b4076",
   "metadata": {
    "id": "I-FvRlT_pzdB"
   },
   "source": [
    "The next cell includes a bunch of helper functions to generate and plot the time series:"
   ]
  },
  {
   "cell_type": "code",
   "execution_count": null,
   "id": "a239bb23",
   "metadata": {
    "id": "ypWIppX9NlSy"
   },
   "outputs": [],
   "source": [
    "def trend(time, slope=0):\n",
    "    \"\"\"A trend over time\"\"\"\n",
    "    return slope * time\n",
    "\n",
    "def seasonal_pattern(season_time):\n",
    "    \"\"\"Just an arbitrary pattern\"\"\"\n",
    "    return np.where(season_time < 0.1,\n",
    "                    np.cos(season_time * 7 * np.pi),\n",
    "                    1 / np.exp(5 * season_time))\n",
    "\n",
    "\n",
    "def seasonality(time, period, amplitude=1, phase=0):\n",
    "    \"\"\"Repeats the same pattern at each period\"\"\"\n",
    "    season_time = ((time + phase) % period) / period\n",
    "    return amplitude * seasonal_pattern(season_time)\n",
    "\n",
    "\n",
    "def noise(time, noise_level=1, seed=None):\n",
    "    \"\"\"Adds noise to the series\"\"\"\n",
    "    rnd = np.random.RandomState(seed)\n",
    "    return rnd.randn(len(time)) * noise_level\n",
    "\n",
    "\n",
    "def plot_series(time, series, format=\"-\", title=\"\", label=None, start=0, end=None):\n",
    "    \"\"\"Plot the series\"\"\"\n",
    "    plt.plot(time[start:end], series[start:end], format, label=label)\n",
    "    plt.xlabel(\"Time\")\n",
    "    plt.ylabel(\"Value\")\n",
    "    plt.title(title)\n",
    "    if label:\n",
    "        plt.legend()\n",
    "    plt.grid(True)"
   ]
  },
  {
   "cell_type": "markdown",
   "id": "666ef691",
   "metadata": {},
   "source": [
    "## Generate time series data\n",
    "\n",
    "Using the previous functions, generate data that resembles a real-life time series.\n",
    "\n",
    "Notice that `TIME` represents the values in the x-coordinate while `SERIES` represents the values in the y-coordinate. This naming is used to avoid confusion with other kinds of data in which `x` and `y` have different meanings."
   ]
  },
  {
   "cell_type": "code",
   "execution_count": null,
   "id": "b4f1bace",
   "metadata": {
    "colab": {
     "base_uri": "https://localhost:8080/",
     "height": 388
    },
    "id": "urmjv7nzsP-h",
    "outputId": "43d6ca86-e23a-4039-b1b2-fb68585b9355"
   },
   "outputs": [],
   "source": [
    "# The time dimension or the x-coordinate of the time series\n",
    "TIME = np.arange(4 * 365 + 1, dtype=\"float32\")\n",
    "\n",
    "# Initial series is just a straight line with a y-intercept\n",
    "y_intercept = 10\n",
    "slope = 0.01\n",
    "SERIES = trend(TIME, slope) + y_intercept\n",
    "\n",
    "# Adding seasonality\n",
    "amplitude = 40\n",
    "SERIES += seasonality(TIME, period=365, amplitude=amplitude)\n",
    "\n",
    "# Adding some noise\n",
    "noise_level = 2\n",
    "SERIES += noise(TIME, noise_level, seed=42)\n",
    "\n",
    "# Plot the series\n",
    "plt.figure(figsize=(10, 6))\n",
    "plot_series(TIME, SERIES)\n",
    "plt.show()"
   ]
  },
  {
   "cell_type": "markdown",
   "id": "99f9a90e",
   "metadata": {
    "id": "UfdyqJJ1VZVu"
   },
   "source": [
    "Now that we have the time series, let's split it so we can start forecasting.\n",
    "\n",
    "Complete the `train_val_split` function below which receives the `time` (x coordinate) and `series` (y coordinate) data along with the `time_step` in which to perform the split. Notice that this value defaults to 1100 since this is an appropiate step to split the series into training and validation:"
   ]
  },
  {
   "cell_type": "code",
   "execution_count": null,
   "id": "4ce90a9a",
   "metadata": {
    "id": "utk866FUZEjU"
   },
   "outputs": [],
   "source": [
    "# Define time step to split the series\n",
    "SPLIT_TIME = 1100\n",
    "\n",
    "# GRADED FUNCTION: train_val_split\n",
    "def train_val_split(time, series, time_step=SPLIT_TIME):\n",
    "\n",
    "    ### START CODE HERE\n",
    "    time_train = None\n",
    "    series_train = None\n",
    "    time_valid = None\n",
    "    series_valid = None\n",
    "    ### END CODE HERE\n",
    "\n",
    "    return time_train, series_train, time_valid, series_valid"
   ]
  },
  {
   "cell_type": "code",
   "execution_count": null,
   "id": "ef01941d",
   "metadata": {
    "colab": {
     "base_uri": "https://localhost:8080/",
     "height": 759
    },
    "id": "gwwAas-sYMLN",
    "outputId": "55fcf156-416f-40a8-f59f-c350ce65b43d"
   },
   "outputs": [],
   "source": [
    "# Test your function\n",
    "time_train, series_train, time_valid, series_valid = train_val_split(TIME, SERIES)\n",
    "\n",
    "plt.figure(figsize=(10, 6))\n",
    "plot_series(time_train, series_train, title=\"Training\")\n",
    "plt.show()\n",
    "\n",
    "plt.figure(figsize=(10, 6))\n",
    "plot_series(time_valid, series_valid, title=\"Validation\")\n",
    "plt.show()"
   ]
  },
  {
   "cell_type": "markdown",
   "id": "c4142d2e",
   "metadata": {},
   "source": [
    "**Expected Output:**\n",
    "\n",
    "<table><tr><td><img src='images/train_series.png'></td><td><img src='images/val_series.png'></td></tr></table>"
   ]
  },
  {
   "cell_type": "markdown",
   "id": "5538fbf7",
   "metadata": {},
   "source": [
    "## Evaluation Metrics\n",
    "\n",
    "Now that you have successfully splitted the data into training and validation sets you will need a way of knowing how good your forecasts are. For this complete the `compute_metrics` below. This function receives the true series and the forecast and returns the `mse` and the `mae` between the two curves. These metrics should be numpy numeric types. \n",
    "\n",
    "**Notice that this function does not receive any time (x coordinate) data since it assumes that both series will have the same values for the x coordinate.**"
   ]
  },
  {
   "cell_type": "code",
   "execution_count": null,
   "id": "7f4a7fb5",
   "metadata": {
    "id": "2bzRtn779WoJ"
   },
   "outputs": [],
   "source": [
    "# GRADED FUNCTION: compute_metrics\n",
    "def compute_metrics(true_series, forecast):\n",
    "    \n",
    "    ### START CODE HERE\n",
    "    mse = None\n",
    "    mae = None\n",
    "    ### END CODE HERE\n",
    "\n",
    "    return mse, mae"
   ]
  },
  {
   "cell_type": "code",
   "execution_count": null,
   "id": "bc45b320",
   "metadata": {
    "colab": {
     "base_uri": "https://localhost:8080/"
    },
    "id": "Hv9xAPhvxbJD",
    "outputId": "37931ee0-ef56-4fa4-bfb6-6287b20dd08f"
   },
   "outputs": [],
   "source": [
    "# Test your function\n",
    "\n",
    "# Define some dummy series for testing\n",
    "zeros = np.zeros(5)\n",
    "ones = np.ones(5)\n",
    "\n",
    "mse, mae = compute_metrics(zeros, ones)\n",
    "print(f\"mse: {mse}, mae: {mae} for series of zeros and prediction of ones\\n\")\n",
    "\n",
    "mse, mae = compute_metrics(ones, ones)\n",
    "print(f\"mse: {mse}, mae: {mae} for series of ones and prediction of ones\\n\")\n",
    "\n",
    "print(f\"metrics are numpy numeric types: {np.issubdtype(type(mse), np.number)}\")"
   ]
  },
  {
   "cell_type": "markdown",
   "id": "d911306b",
   "metadata": {},
   "source": [
    "**Expected Output:**\n",
    "\n",
    "```\n",
    "mse: 1.0, mae: 1.0 for series of zeros and prediction of ones\n",
    "\n",
    "mse: 0.0, mae: 0.0 for series of ones and prediction of ones\n",
    "\n",
    "metrics are numpy numeric types: True\n",
    "```"
   ]
  },
  {
   "cell_type": "markdown",
   "id": "59dd9c9e",
   "metadata": {
    "id": "bjD8ncEZbjEW"
   },
   "source": [
    "# Forecasting\n",
    "\n",
    "Now that you have a way of measuring the performance of your forecasts it is time to actually start doing some forecasts.\n",
    "\n",
    "Let's start easy by using a naive forecast.\n",
    "\n",
    "## Naive Forecast\n",
    "\n",
    "Define the `naive_forecast` variable below. This series should be identical to the validation one but delayed one time step. It also receives the split time step of the series for ease of computing the delayed series.\n",
    "\n",
    "**Notice that this series should leave out the last element since this element does not exists in the validation set and you will not be able to compute the evaluation metrics if this element is kept.**\n",
    "\n",
    "Hint:\n",
    "\n",
    "- Use the whole `SERIES` (training and validation) and the `SPLIT_TIME` to compute this one."
   ]
  },
  {
   "cell_type": "code",
   "execution_count": null,
   "id": "e84e48c8",
   "metadata": {},
   "outputs": [],
   "source": [
    "### START CODE HERE\n",
    "naive_forecast = None\n",
    "### END CODE HERE\n",
    "\n",
    "print(f\"validation series has shape: {series_valid.shape}\\n\")\n",
    "print(f\"naive forecast has shape: {naive_forecast.shape}\\n\")\n",
    "print(f\"comparable with validation series: {series_valid.shape == naive_forecast.shape}\")\n",
    "\n",
    "plt.figure(figsize=(10, 6))\n",
    "plot_series(time_valid, series_valid, label=\"validation set\")\n",
    "plot_series(time_valid, naive_forecast, label=\"naive forecast\")"
   ]
  },
  {
   "cell_type": "markdown",
   "id": "7db61b6a",
   "metadata": {},
   "source": [
    "**Expected Output:**\n",
    "\n",
    "```\n",
    "validation series has shape: (361,)\n",
    "\n",
    "naive forecast has shape: (361,)\n",
    "\n",
    "comparable with validation series: True\n",
    "```\n",
    "<div>\n",
    "<img src=\"images/naive.png\" width=\"500\"/>\n",
    "</div>"
   ]
  },
  {
   "cell_type": "markdown",
   "id": "2e861624",
   "metadata": {
    "id": "fw1SP5WeuixH"
   },
   "source": [
    "Let's zoom in on the end of the validation period:"
   ]
  },
  {
   "cell_type": "code",
   "execution_count": null,
   "id": "a94784c5",
   "metadata": {},
   "outputs": [],
   "source": [
    "plt.figure(figsize=(10, 6))\n",
    "plot_series(time_valid, series_valid, start=330, end=361, label=\"validation set\")\n",
    "plot_series(time_valid, naive_forecast, start=330, end=361, label=\"naive forecast\")"
   ]
  },
  {
   "cell_type": "markdown",
   "id": "2d7ab058",
   "metadata": {},
   "source": [
    "**Expected Output:**\n",
    "\n",
    "<div>\n",
    "<img src=\"images/naive_zoom.png\" width=\"500\"/>\n",
    "</div>"
   ]
  },
  {
   "cell_type": "markdown",
   "id": "dde0ff47",
   "metadata": {
    "id": "35gIlQLfu0TT"
   },
   "source": [
    "**You should see that the naive forecast lags 1 step behind the time serie and that both series end on the same time step.**"
   ]
  },
  {
   "cell_type": "markdown",
   "id": "535d5a75",
   "metadata": {
    "id": "Uh_7244Gsxfx"
   },
   "source": [
    "Now let's compute the mean squared error and the mean absolute error between the forecasts and the predictions in the validation period:"
   ]
  },
  {
   "cell_type": "code",
   "execution_count": null,
   "id": "e16fd910",
   "metadata": {
    "colab": {
     "base_uri": "https://localhost:8080/"
    },
    "id": "byNnC7IbsnMZ",
    "outputId": "63aa5d88-bdbe-471e-c762-b8ff806ceb8c"
   },
   "outputs": [],
   "source": [
    "mse, mae = compute_metrics(series_valid, naive_forecast)\n",
    "\n",
    "print(f\"mse: {mse:.2f}, mae: {mae:.2f} for naive forecast\")"
   ]
  },
  {
   "cell_type": "markdown",
   "id": "4886d048",
   "metadata": {},
   "source": [
    "**Expected Output:**\n",
    "\n",
    "```\n",
    "mse: 19.58, mae: 2.60 for naive forecast\n",
    "```"
   ]
  },
  {
   "cell_type": "markdown",
   "id": "d4263f1a",
   "metadata": {
    "id": "WGPBC9QttI1u"
   },
   "source": [
    "That's our baseline, now let's try a moving average.\n",
    "\n",
    "## Moving Average\n",
    "\n",
    "Complete the `moving_average_forecast` below. This function receives a `series` and a `window_size` and computes the moving average forecast for every point after the initial `window_size` values.\n",
    "\n",
    "**This function will receive the complete `SERIES` and the returned series will then be sliced to match the validation period so your function doesn't need to account for matching the series to the validation period.**"
   ]
  },
  {
   "cell_type": "code",
   "execution_count": null,
   "id": "97eec147",
   "metadata": {
    "id": "YGz5UsUdf2tV"
   },
   "outputs": [],
   "source": [
    "# GRADED FUNCTION: moving_average_forecast\n",
    "def moving_average_forecast(series, window_size):\n",
    "    \"\"\"Forecasts the mean of the last few values.\n",
    "        If window_size=1, then this is equivalent to naive forecast\"\"\"\n",
    "    \n",
    "    forecast = []\n",
    "    \n",
    "    ### START CODE HERE  \n",
    "    for time in range(len(series) - window_size):\n",
    "        forecast.append(series[time:time + window_size].mean())\n",
    "        \n",
    "    # Conver to a numpy array\n",
    "    np_forecast = None\n",
    "    \n",
    "    ### END CODE HERE\n",
    "    \n",
    "    return np_forecast"
   ]
  },
  {
   "cell_type": "markdown",
   "id": "075317b5",
   "metadata": {},
   "source": [
    "You cannot compute the moving average for the first `window_size` values since there aren't enough values to compute the desired average. So if you use the whole `SERIES` and a `window_size` of 30 your function should return a series with the number of elements equal to:\n",
    "\n",
    "```python\n",
    "len(SERIES) - 30\n",
    "````"
   ]
  },
  {
   "cell_type": "code",
   "execution_count": null,
   "id": "a5d6dc62",
   "metadata": {},
   "outputs": [],
   "source": [
    "print(f\"Whole SERIES has {len(SERIES)} elements so the moving average forecast should have {len(SERIES)-30} elements\")"
   ]
  },
  {
   "cell_type": "code",
   "execution_count": null,
   "id": "a0b3a375",
   "metadata": {
    "colab": {
     "base_uri": "https://localhost:8080/",
     "height": 388
    },
    "id": "HHFhGXQji7_r",
    "outputId": "232dfd1d-05f5-4ce1-e090-c612c64c71ca"
   },
   "outputs": [],
   "source": [
    "# Test your function\n",
    "moving_avg = moving_average_forecast(SERIES, window_size=30)\n",
    "print(f\"moving average forecast with whole SERIES has shape: {moving_avg.shape}\\n\")\n",
    "\n",
    "# Slice it so it matches the validation period\n",
    "moving_avg = moving_avg[1100 - 30:]\n",
    "print(f\"moving average forecast after slicing has shape: {moving_avg.shape}\\n\")\n",
    "print(f\"comparable with validation series: {series_valid.shape == moving_avg.shape}\")\n",
    "\n",
    "\n",
    "plt.figure(figsize=(10, 6))\n",
    "plot_series(time_valid, series_valid)\n",
    "plot_series(time_valid, moving_avg)"
   ]
  },
  {
   "cell_type": "markdown",
   "id": "8c84cbf4",
   "metadata": {},
   "source": [
    "**Expected Output:**\n",
    "\n",
    "```\n",
    "moving average forecast with whole SERIES has shape: (1431,)\n",
    "\n",
    "moving average forecast after slicing has shape: (361,)\n",
    "\n",
    "comparable with validation series: True\n",
    "```\n",
    "<div>\n",
    "<img src=\"images/moving_avg.png\" width=\"500\"/>\n",
    "</div>"
   ]
  },
  {
   "cell_type": "code",
   "execution_count": null,
   "id": "038e5410",
   "metadata": {
    "colab": {
     "base_uri": "https://localhost:8080/"
    },
    "id": "oINy178C_cCv",
    "outputId": "7917e7e3-460f-41b8-866a-6cf560e78fd1"
   },
   "outputs": [],
   "source": [
    "# Compute evaluation metrics\n",
    "mse, mae = compute_metrics(series_valid, moving_avg)\n",
    "\n",
    "print(f\"mse: {mse:.2f}, mae: {mae:.2f} for moving average forecast\")"
   ]
  },
  {
   "cell_type": "markdown",
   "id": "195369e7",
   "metadata": {},
   "source": [
    "**Expected Output:**\n",
    "\n",
    "```\n",
    "mse: 65.79, mae: 4.30 for moving average forecast\n",
    "```"
   ]
  },
  {
   "cell_type": "markdown",
   "id": "68ca7b13",
   "metadata": {
    "id": "JMYPnJqwz8nS"
   },
   "source": [
    "That's worse than naive forecast! The moving average does not anticipate trend or seasonality, so let's try to remove them by using differencing. \n",
    "\n",
    "## Differencing\n",
    "\n",
    "Since the seasonality period is 365 days, we will subtract the value at time *t* – 365 from the value at time *t*.\n",
    "\n",
    "Define the `diff_series` and `diff_time` variables below to achieve this. Notice that `diff_time` is the values of the x-coordinate for `diff_series`."
   ]
  },
  {
   "cell_type": "code",
   "execution_count": null,
   "id": "5a8c3ebb",
   "metadata": {
    "colab": {
     "base_uri": "https://localhost:8080/",
     "height": 388
    },
    "id": "5pqySF7-rJR4",
    "outputId": "7822b126-b20a-4c0d-ec2f-254d033f9df6"
   },
   "outputs": [],
   "source": [
    "### START CODE HERE\n",
    "diff_series = None\n",
    "diff_time = None\n",
    "### END CODE HERE\n",
    "\n",
    "print(f\"Whole SERIES has {len(SERIES)} elements so the differencing should have {len(SERIES)-365} elements\\n\")\n",
    "print(f\"diff series has shape: {diff_series.shape}\\n\")\n",
    "print(f\"x-coordinate of diff series has shape: {diff_time.shape}\\n\")\n",
    "\n",
    "plt.figure(figsize=(10, 6))\n",
    "plot_series(diff_time, diff_series)\n",
    "plt.show()"
   ]
  },
  {
   "cell_type": "markdown",
   "id": "6ca6a9bd",
   "metadata": {},
   "source": [
    "**Expected Output:**\n",
    "```\n",
    "Whole SERIES has 1461 elements so the differencing should have 1096 elements\n",
    "\n",
    "diff series has shape: (1096,)\n",
    "\n",
    "x-coordinate of diff series has shape: (1096,)\n",
    "```\n",
    "<div>\n",
    "<img src=\"images/diff.png\" width=\"500\"/>\n",
    "</div>"
   ]
  },
  {
   "cell_type": "markdown",
   "id": "e70e930f",
   "metadata": {
    "id": "xPlPlS7DskWg"
   },
   "source": [
    "Great, the trend and seasonality seem to be gone, so now we can use the moving average.\n",
    "\n",
    "Define the `diff_moving_avg` variable. \n",
    "\n",
    "**Notice that the `window_size` has already being defined and that you will need to perform the correct slicing for the series to match the validation period.**"
   ]
  },
  {
   "cell_type": "code",
   "execution_count": null,
   "id": "19934552",
   "metadata": {
    "colab": {
     "base_uri": "https://localhost:8080/",
     "height": 388
    },
    "id": "QmZpz7arsjbb",
    "outputId": "81bfe164-0d5e-452e-ecc5-eb21bb71097f"
   },
   "outputs": [],
   "source": [
    "### START CODE HERE\n",
    "\n",
    "# Apply the moving avg to diff series\n",
    "diff_moving_avg = moving_average_forecast(None, 50)\n",
    "\n",
    "print(f\"moving average forecast with diff series has shape: {diff_moving_avg.shape}\\n\")\n",
    "\n",
    "# Perform the correct slicing\n",
    "diff_moving_avg = diff_moving_avg[None:]\n",
    "\n",
    "### END CODE HERE\n",
    "\n",
    "print(f\"moving average forecast with diff series after slicing has shape: {diff_moving_avg.shape}\\n\")\n",
    "print(f\"comparable with validation series: {series_valid.shape == diff_moving_avg.shape}\")\n",
    "\n",
    "\n",
    "plt.figure(figsize=(10, 6))\n",
    "plot_series(time_valid, diff_series[1100 - 365:])\n",
    "plot_series(time_valid, diff_moving_avg)\n",
    "plt.show()"
   ]
  },
  {
   "cell_type": "markdown",
   "id": "8ea51e34",
   "metadata": {},
   "source": [
    "**Expected Output:**\n",
    "```\n",
    "moving average forecast with diff series has shape: (1046,)\n",
    "\n",
    "moving average forecast with diff series after slicing has shape: (361,)\n",
    "\n",
    "comparable with validation series: True\n",
    "```\n",
    "<div>\n",
    "<img src=\"images/diff_moving.png\" width=\"500\"/>\n",
    "</div>"
   ]
  },
  {
   "cell_type": "markdown",
   "id": "af4844cc",
   "metadata": {
    "id": "Gno9S2lyecnc"
   },
   "source": [
    "Now let's bring back the trend and seasonality by adding the past values from t – 365:"
   ]
  },
  {
   "cell_type": "code",
   "execution_count": null,
   "id": "55a709f1",
   "metadata": {
    "colab": {
     "base_uri": "https://localhost:8080/",
     "height": 388
    },
    "id": "Dv6RWFq7TFGB",
    "outputId": "f2db4f8e-0212-4bdb-ad05-af071b147f6e"
   },
   "outputs": [],
   "source": [
    "### START CODE HERE\n",
    "\n",
    "# Slice the whole SERIES to get the past values\n",
    "past_series = SERIES[None:None]\n",
    "\n",
    "print(f\"past series has shape: {past_series.shape}\\n\")\n",
    "\n",
    "\n",
    "# Add the past to the moving average of diff series\n",
    "diff_moving_avg_plus_past = past_series + None\n",
    "\n",
    "### END CODE HERE\n",
    "\n",
    "print(f\"moving average forecast with diff series plus past has shape: {diff_moving_avg_plus_past.shape}\\n\")\n",
    "print(f\"comparable with validation series: {series_valid.shape == diff_moving_avg_plus_past.shape}\")\n",
    "\n",
    "plt.figure(figsize=(10, 6))\n",
    "plot_series(time_valid, series_valid)\n",
    "plot_series(time_valid, diff_moving_avg_plus_past)\n",
    "plt.show()"
   ]
  },
  {
   "cell_type": "markdown",
   "id": "06500a69",
   "metadata": {},
   "source": [
    "**Expected Output:**\n",
    "\n",
    "```\n",
    "past series has shape: (361,)\n",
    "\n",
    "moving average forecast with diff series plus past has shape: (361,)\n",
    "\n",
    "comparable with validation series: True\n",
    "```\n",
    "\n",
    "<div>\n",
    "<img src=\"images/plus_past.png\" width=\"500\"/>\n",
    "</div>"
   ]
  },
  {
   "cell_type": "code",
   "execution_count": null,
   "id": "5c13b227",
   "metadata": {},
   "outputs": [],
   "source": [
    "# Compute evaluation metrics\n",
    "mse, mae = compute_metrics(series_valid, diff_moving_avg_plus_past)\n",
    "\n",
    "print(f\"mse: {mse:.2f}, mae: {mae:.2f} for moving average plus past forecast\")"
   ]
  },
  {
   "cell_type": "markdown",
   "id": "27b5c715",
   "metadata": {},
   "source": [
    "**Expected Output:**\n",
    "\n",
    "```\n",
    "mse: 8.50, mae: 2.33 for moving average plus past forecast\n",
    "```"
   ]
  },
  {
   "cell_type": "markdown",
   "id": "3c1877bc",
   "metadata": {
    "id": "vx9Et1Hkeusl"
   },
   "source": [
    "Better than naive forecast, good. However the forecasts look a bit too random, because we're just adding past values, which were noisy. Let's use a moving averaging on past values to remove some of the noise:"
   ]
  },
  {
   "cell_type": "code",
   "execution_count": null,
   "id": "fe468a62",
   "metadata": {
    "colab": {
     "base_uri": "https://localhost:8080/",
     "height": 388
    },
    "id": "K81dtROoTE_r",
    "outputId": "8c2b96f4-1026-42e5-dce3-29475f5610d1"
   },
   "outputs": [],
   "source": [
    "### START CODE HERE\n",
    "\n",
    "# Perform the correct split of SERIES\n",
    "smooth_past_series = moving_average_forecast(SERIES[None:None], 10)\n",
    "\n",
    "print(f\"smooth past series has shape: {smooth_past_series.shape}\\n\")\n",
    "\n",
    "# Add the smoothed out past values to the moving avg of diff series\n",
    "diff_moving_avg_plus_smooth_past = smooth_past_series + None\n",
    "\n",
    "### END CODE HERE\n",
    "\n",
    "print(f\"moving average forecast with diff series plus past has shape: {diff_moving_avg_plus_smooth_past.shape}\\n\")\n",
    "print(f\"comparable with validation series: {series_valid.shape == diff_moving_avg_plus_smooth_past.shape}\")\n",
    "\n",
    "plt.figure(figsize=(10, 6))\n",
    "plot_series(time_valid, series_valid)\n",
    "plot_series(time_valid, diff_moving_avg_plus_smooth_past)\n",
    "plt.show()"
   ]
  },
  {
   "cell_type": "markdown",
   "id": "bfb858f6",
   "metadata": {},
   "source": [
    "**Expected Output:**\n",
    "\n",
    "```\n",
    "smooth past series has shape: (361,)\n",
    "\n",
    "moving average forecast with diff series plus past has shape: (361,)\n",
    "\n",
    "comparable with validation series: True\n",
    "```\n",
    "\n",
    "<div>\n",
    "<img src=\"images/plus_smooth.png\" width=\"500\"/>\n",
    "</div>"
   ]
  },
  {
   "cell_type": "code",
   "execution_count": null,
   "id": "3d4545e8",
   "metadata": {},
   "outputs": [],
   "source": [
    "# Compute evaluation metrics\n",
    "mse, mae = compute_metrics(series_valid, diff_moving_avg_plus_smooth_past)\n",
    "\n",
    "print(f\"mse: {mse:.2f}, mae: {mae:.2f} for moving average plus smooth past forecast\")"
   ]
  },
  {
   "cell_type": "markdown",
   "id": "eb20ef57",
   "metadata": {},
   "source": [
    "**Expected Output:**\n",
    "\n",
    "```\n",
    "mse: 12.53, mae: 2.20 for moving average plus smooth past forecast\n",
    "```"
   ]
  },
  {
   "cell_type": "markdown",
   "id": "81182b36",
   "metadata": {
    "id": "d3_54UQCdPuP"
   },
   "source": [
    "**Congratulations on finishing this week's assignment!**\n",
    "\n",
    "You have successfully implemented functions for time series splitting and evaluation while also learning how to deal with time series data and how to code forecasting methods!\n",
    "\n",
    "**Keep it up!**"
   ]
  }
 ],
 "metadata": {
  "jupytext": {
   "encoding": "# -*- coding: utf-8 -*-"
  },
  "kernelspec": {
   "display_name": "Python 3",
   "language": "python",
   "name": "python3"
  },
  "language_info": {
   "codemirror_mode": {
    "name": "ipython",
    "version": 3
   },
   "file_extension": ".py",
   "mimetype": "text/x-python",
   "name": "python",
   "nbconvert_exporter": "python",
   "pygments_lexer": "ipython3",
   "version": "3.8.8"
  }
 },
 "nbformat": 4,
 "nbformat_minor": 5
}
