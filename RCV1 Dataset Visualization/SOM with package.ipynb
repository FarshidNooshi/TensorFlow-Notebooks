{
 "cells": [
  {
   "cell_type": "markdown",
   "metadata": {},
   "source": [
    "<div align=\"center\">\n",
    "    <h1>In The Name Of GOD</h1>\n",
    "</div>"
   ]
  },
  {
   "cell_type": "markdown",
   "metadata": {},
   "source": [
    "# Self Organizing Map (SOM) implementation in Python with the SUSI package on RCV1 dataset"
   ]
  },
  {
   "cell_type": "markdown",
   "metadata": {},
   "source": [
    "## Imports"
   ]
  },
  {
   "cell_type": "code",
   "execution_count": 19,
   "metadata": {},
   "outputs": [],
   "source": [
    "import susi\n",
    "from susi.SOMPlots import plot_nbh_dist_weight_matrix, plot_umatrix,plot_estimation_map,plot_som_histogram\n",
    "from sklearn.utils import resample\n",
    "from sklearn.decomposition import TruncatedSVD\n",
    "import numpy as np\n",
    "import matplotlib.pyplot as plt\n",
    "import sklearn\n",
    "from sklearn.datasets import fetch_rcv1\n",
    "from joblib import effective_n_jobs\n",
    "from numpy.ma.core import ceil \n",
    "import pickle as pkl\n",
    "import pprint"
   ]
  },
  {
   "cell_type": "markdown",
   "metadata": {},
   "source": [
    "## Fetch the RCV1 dataset"
   ]
  },
  {
   "cell_type": "code",
   "execution_count": 6,
   "metadata": {},
   "outputs": [
    {
     "data": {
      "text/plain": [
       "(<804414x47236 sparse matrix of type '<class 'numpy.float64'>'\n",
       " \twith 60915113 stored elements in Compressed Sparse Row format>,\n",
       " <804414x103 sparse matrix of type '<class 'numpy.uint8'>'\n",
       " \twith 2606875 stored elements in Compressed Sparse Row format>)"
      ]
     },
     "execution_count": 6,
     "metadata": {},
     "output_type": "execute_result"
    }
   ],
   "source": [
    "rcv1 = fetch_rcv1()\n",
    "\n",
    "data, target = rcv1.data, rcv1.target\n",
    "\n",
    "(data, target)"
   ]
  },
  {
   "cell_type": "markdown",
   "metadata": {},
   "source": [
    "## Hyperparameter"
   ]
  },
  {
   "cell_type": "code",
   "execution_count": 13,
   "metadata": {},
   "outputs": [],
   "source": [
    "NUM_SAMPLES = 10000 # number of samples to use\n",
    "NUM_NEURONS = (5 * np.sqrt(NUM_SAMPLES)) #number of neurons in the SOM rectangular grid\n",
    "GRID_SIZE = (ceil(np.sqrt(NUM_NEURONS)).astype(np.int32), ceil(np.sqrt(NUM_NEURONS)).astype(np.int32)) #size of the grid\n",
    "NUM_ITERS = 3000 #number of iterations to run the SOM\n",
    "BETA0 = 0.5 #initial learning rate\n",
    "N_JOBS = effective_n_jobs() #number of jobs to run in parallel"
   ]
  },
  {
   "cell_type": "markdown",
   "metadata": {},
   "source": [
    "## Resample the dataset"
   ]
  },
  {
   "cell_type": "code",
   "execution_count": 9,
   "metadata": {},
   "outputs": [],
   "source": [
    "X, y = resample(rcv1.data, rcv1.target, replace=False, n_samples=NUM_SAMPLES, random_state=42)\n",
    "\n",
    "X = X.toarray()\n",
    "Y = y.toarray()"
   ]
  },
  {
   "cell_type": "markdown",
   "metadata": {},
   "source": [
    "## Setup the SOM Model"
   ]
  },
  {
   "cell_type": "code",
   "execution_count": 14,
   "metadata": {},
   "outputs": [],
   "source": [
    "som = susi.SOMClustering(\n",
    "    n_rows=GRID_SIZE[0],\n",
    "    n_columns=GRID_SIZE[1],\n",
    "    learning_rate_start=BETA0,\n",
    "    n_jobs=N_JOBS,\n",
    "    verbose=True)"
   ]
  },
  {
   "cell_type": "markdown",
   "metadata": {},
   "source": [
    "## Train the SOM Model"
   ]
  },
  {
   "cell_type": "code",
   "execution_count": 15,
   "metadata": {},
   "outputs": [
    {
     "name": "stderr",
     "output_type": "stream",
     "text": [
      "unsuper: 100%|██████████████████████████████████████████████████| 1000/1000 [02:54<00:00,  5.74it/s]\n",
      "[Parallel(n_jobs=10)]: Using backend LokyBackend with 10 concurrent workers.\n",
      "[Parallel(n_jobs=10)]: Done  30 tasks      | elapsed:    6.4s\n",
      "[Parallel(n_jobs=10)]: Done 180 tasks      | elapsed:    9.0s\n",
      "[Parallel(n_jobs=10)]: Done 430 tasks      | elapsed:   13.6s\n",
      "[Parallel(n_jobs=10)]: Done 780 tasks      | elapsed:   21.0s\n",
      "[Parallel(n_jobs=10)]: Done 1230 tasks      | elapsed:   28.8s\n",
      "[Parallel(n_jobs=10)]: Done 1780 tasks      | elapsed:   38.8s\n",
      "[Parallel(n_jobs=10)]: Done 2430 tasks      | elapsed:   51.1s\n",
      "[Parallel(n_jobs=10)]: Done 3180 tasks      | elapsed:  1.1min\n",
      "[Parallel(n_jobs=10)]: Done 4030 tasks      | elapsed:  1.3min\n",
      "[Parallel(n_jobs=10)]: Done 4980 tasks      | elapsed:  1.6min\n",
      "[Parallel(n_jobs=10)]: Done 6030 tasks      | elapsed:  1.9min\n",
      "[Parallel(n_jobs=10)]: Done 7180 tasks      | elapsed:  2.3min\n",
      "[Parallel(n_jobs=10)]: Done 8430 tasks      | elapsed:  2.7min\n",
      "[Parallel(n_jobs=10)]: Done 9780 tasks      | elapsed:  3.1min\n"
     ]
    },
    {
     "name": "stdout",
     "output_type": "stream",
     "text": [
      "[+] SOM fitting finished\n"
     ]
    },
    {
     "name": "stderr",
     "output_type": "stream",
     "text": [
      "[Parallel(n_jobs=10)]: Done 10000 out of 10000 | elapsed:  3.2min finished\n"
     ]
    }
   ],
   "source": [
    "som.fit(X)\n",
    "print(\"[+] SOM fitting finished\")"
   ]
  },
  {
   "cell_type": "markdown",
   "metadata": {},
   "source": [
    "## Save&Load the SOM Model"
   ]
  },
  {
   "cell_type": "markdown",
   "metadata": {},
   "source": [
    "### Save the SOM Model"
   ]
  },
  {
   "cell_type": "code",
   "execution_count": 20,
   "metadata": {},
   "outputs": [
    {
     "name": "stdout",
     "output_type": "stream",
     "text": [
      "'[+] SOM saved to model/som_package.pkl'\n"
     ]
    }
   ],
   "source": [
    "with open('model/som_package.pkl', 'wb') as f: #save the SOM\n",
    "    pkl.dump(som, f)\n",
    "    pprint.pprint(f'[+] SOM saved to model/som_package.pkl')"
   ]
  },
  {
   "cell_type": "markdown",
   "metadata": {},
   "source": [
    "### Load the SOM Model"
   ]
  },
  {
   "cell_type": "code",
   "execution_count": 21,
   "metadata": {},
   "outputs": [
    {
     "name": "stdout",
     "output_type": "stream",
     "text": [
      "'[+] SOM loaded from model/som_package.pkl'\n"
     ]
    }
   ],
   "source": [
    "with open('model/som_package.pkl', 'rb') as f: #load the SOM\n",
    "    som = pkl.load(f)\n",
    "    pprint.pprint(f'[+] SOM loaded from model/som_package.pkl')"
   ]
  },
  {
   "cell_type": "markdown",
   "metadata": {},
   "source": [
    "## Best Matching Unit (BMU)"
   ]
  },
  {
   "cell_type": "code",
   "execution_count": 23,
   "metadata": {},
   "outputs": [
    {
     "name": "stderr",
     "output_type": "stream",
     "text": [
      "[Parallel(n_jobs=10)]: Using backend LokyBackend with 10 concurrent workers.\n",
      "[Parallel(n_jobs=10)]: Done  30 tasks      | elapsed:    5.4s\n",
      "[Parallel(n_jobs=10)]: Done 180 tasks      | elapsed:   16.0s\n",
      "[Parallel(n_jobs=10)]: Done 430 tasks      | elapsed:   34.0s\n",
      "[Parallel(n_jobs=10)]: Done 780 tasks      | elapsed:   58.9s\n",
      "[Parallel(n_jobs=10)]: Done 1230 tasks      | elapsed:  1.5min\n",
      "[Parallel(n_jobs=10)]: Done 1780 tasks      | elapsed:  2.2min\n",
      "[Parallel(n_jobs=10)]: Done 2430 tasks      | elapsed:  3.0min\n"
     ]
    }
   ],
   "source": [
    "best_matching_units_list = som.get_bmus(X) #get the best matching units for each sample"
   ]
  },
  {
   "cell_type": "markdown",
   "metadata": {},
   "source": [
    "## Save&Load the BMU"
   ]
  },
  {
   "cell_type": "markdown",
   "metadata": {},
   "source": [
    "### Save the BMU"
   ]
  },
  {
   "cell_type": "code",
   "execution_count": null,
   "metadata": {},
   "outputs": [],
   "source": [
    "with open('/model/BMU/bmu_list_Package.pickle', 'wb') as f:\n",
    "    pickle.dump(best_matching_units_list, f)\n",
    "    pprint.pprint(f'[+] best_matching_units_list saved to model/BMU/bmu_list_Package.pickle')"
   ]
  },
  {
   "cell_type": "markdown",
   "metadata": {},
   "source": [
    "### Load the BMU"
   ]
  },
  {
   "cell_type": "code",
   "execution_count": null,
   "metadata": {},
   "outputs": [],
   "source": [
    "with open('/model/BMU/bmu_list_Package.pickle', 'rb') as f:\n",
    "    best_matching_units_list = pickle.load(f)\n",
    "    pprint.pprint(f'[+] best_matching_units_list loaded from model/BMU/bmu_list_Package.pickle')"
   ]
  },
  {
   "cell_type": "markdown",
   "metadata": {},
   "source": [
    "## Visualize the SOM Model"
   ]
  },
  {
   "cell_type": "code",
   "execution_count": null,
   "metadata": {},
   "outputs": [],
   "source": [
    "u_matrix = som.get_u_matrix() #get the U-matrix of the SOM"
   ]
  },
  {
   "cell_type": "code",
   "execution_count": null,
   "metadata": {},
   "outputs": [],
   "source": [
    "import itertools\n",
    "\n",
    "\n",
    "s = np.zeros(GRID_SIZE) #initialize the s vector\n",
    "for i, j in itertools.product(range(GRID_SIZE[0]), range(GRID_SIZE[1])): #for each neuron in the SOM\n",
    "    s[i][j] = (len(som.get_datapoints_from_node([i,j])))"
   ]
  }
 ],
 "metadata": {
  "kernelspec": {
   "display_name": "Python 3.9.12",
   "language": "python",
   "name": "python3"
  },
  "language_info": {
   "codemirror_mode": {
    "name": "ipython",
    "version": 3
   },
   "file_extension": ".py",
   "mimetype": "text/x-python",
   "name": "python",
   "nbconvert_exporter": "python",
   "pygments_lexer": "ipython3",
   "version": "3.9.12"
  },
  "orig_nbformat": 4,
  "vscode": {
   "interpreter": {
    "hash": "465bf8bf39eb6d29a2a62c1b7df28f314b583a714539b89eff15d00bb86422b4"
   }
  }
 },
 "nbformat": 4,
 "nbformat_minor": 2
}
