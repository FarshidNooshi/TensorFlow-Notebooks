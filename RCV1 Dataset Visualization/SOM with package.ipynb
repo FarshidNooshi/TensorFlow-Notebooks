{
 "cells": [
  {
   "cell_type": "markdown",
   "metadata": {},
   "source": [
    "<div align=\"center\">\n",
    "    <h1>In The Name Of GOD</h1>\n",
    "</div>"
   ]
  },
  {
   "cell_type": "markdown",
   "metadata": {},
   "source": [
    "# Self Organizing Map (SOM) implementation in Python with the SUSI package on RCV1 dataset"
   ]
  },
  {
   "cell_type": "markdown",
   "metadata": {},
   "source": [
    "## Imports"
   ]
  },
  {
   "cell_type": "code",
   "execution_count": 37,
   "metadata": {},
   "outputs": [],
   "source": [
    "import susi\n",
    "from susi.SOMPlots import plot_nbh_dist_weight_matrix, plot_umatrix,plot_estimation_map,plot_som_histogram\n",
    "from sklearn.utils import resample\n",
    "from sklearn.decomposition import TruncatedSVD\n",
    "import numpy as np\n",
    "import matplotlib.pyplot as plt\n",
    "import sklearn\n",
    "from sklearn.datasets import fetch_rcv1\n",
    "from joblib import effective_n_jobs\n",
    "from numpy.ma.core import ceil \n",
    "import pickle as pkl\n",
    "import pprint\n",
    "import itertools"
   ]
  },
  {
   "cell_type": "markdown",
   "metadata": {},
   "source": [
    "## Fetch the RCV1 dataset"
   ]
  },
  {
   "cell_type": "code",
   "execution_count": 6,
   "metadata": {},
   "outputs": [
    {
     "data": {
      "text/plain": [
       "(<804414x47236 sparse matrix of type '<class 'numpy.float64'>'\n",
       " \twith 60915113 stored elements in Compressed Sparse Row format>,\n",
       " <804414x103 sparse matrix of type '<class 'numpy.uint8'>'\n",
       " \twith 2606875 stored elements in Compressed Sparse Row format>)"
      ]
     },
     "execution_count": 6,
     "metadata": {},
     "output_type": "execute_result"
    }
   ],
   "source": [
    "rcv1 = fetch_rcv1()\n",
    "\n",
    "data, target = rcv1.data, rcv1.target\n",
    "\n",
    "(data, target)"
   ]
  },
  {
   "cell_type": "markdown",
   "metadata": {},
   "source": [
    "## Hyperparameter"
   ]
  },
  {
   "cell_type": "code",
   "execution_count": 13,
   "metadata": {},
   "outputs": [],
   "source": [
    "NUM_SAMPLES = 10000 # number of samples to use\n",
    "NUM_NEURONS = (5 * np.sqrt(NUM_SAMPLES)) #number of neurons in the SOM rectangular grid\n",
    "GRID_SIZE = (ceil(np.sqrt(NUM_NEURONS)).astype(np.int32), ceil(np.sqrt(NUM_NEURONS)).astype(np.int32)) #size of the grid\n",
    "NUM_ITERS = 3000 #number of iterations to run the SOM\n",
    "BETA0 = 0.5 #initial learning rate\n",
    "N_JOBS = effective_n_jobs() #number of jobs to run in parallel"
   ]
  },
  {
   "cell_type": "markdown",
   "metadata": {},
   "source": [
    "## Resample the dataset"
   ]
  },
  {
   "cell_type": "code",
   "execution_count": 9,
   "metadata": {},
   "outputs": [],
   "source": [
    "X, y = resample(rcv1.data, rcv1.target, replace=False, n_samples=NUM_SAMPLES, random_state=42)\n",
    "\n",
    "X = X.toarray()\n",
    "Y = y.toarray()"
   ]
  },
  {
   "cell_type": "markdown",
   "metadata": {},
   "source": [
    "## Setup the SOM Model"
   ]
  },
  {
   "cell_type": "code",
   "execution_count": 14,
   "metadata": {},
   "outputs": [],
   "source": [
    "som = susi.SOMClustering(\n",
    "    n_rows=GRID_SIZE[0],\n",
    "    n_columns=GRID_SIZE[1],\n",
    "    learning_rate_start=BETA0,\n",
    "    n_jobs=N_JOBS,\n",
    "    verbose=True)"
   ]
  },
  {
   "cell_type": "markdown",
   "metadata": {},
   "source": [
    "## Train the SOM Model"
   ]
  },
  {
   "cell_type": "code",
   "execution_count": 15,
   "metadata": {},
   "outputs": [
    {
     "name": "stderr",
     "output_type": "stream",
     "text": [
      "unsuper: 100%|██████████████████████████████████████████████████| 1000/1000 [02:54<00:00,  5.74it/s]\n",
      "[Parallel(n_jobs=10)]: Using backend LokyBackend with 10 concurrent workers.\n",
      "[Parallel(n_jobs=10)]: Done  30 tasks      | elapsed:    6.4s\n",
      "[Parallel(n_jobs=10)]: Done 180 tasks      | elapsed:    9.0s\n",
      "[Parallel(n_jobs=10)]: Done 430 tasks      | elapsed:   13.6s\n",
      "[Parallel(n_jobs=10)]: Done 780 tasks      | elapsed:   21.0s\n",
      "[Parallel(n_jobs=10)]: Done 1230 tasks      | elapsed:   28.8s\n",
      "[Parallel(n_jobs=10)]: Done 1780 tasks      | elapsed:   38.8s\n",
      "[Parallel(n_jobs=10)]: Done 2430 tasks      | elapsed:   51.1s\n",
      "[Parallel(n_jobs=10)]: Done 3180 tasks      | elapsed:  1.1min\n",
      "[Parallel(n_jobs=10)]: Done 4030 tasks      | elapsed:  1.3min\n",
      "[Parallel(n_jobs=10)]: Done 4980 tasks      | elapsed:  1.6min\n",
      "[Parallel(n_jobs=10)]: Done 6030 tasks      | elapsed:  1.9min\n",
      "[Parallel(n_jobs=10)]: Done 7180 tasks      | elapsed:  2.3min\n",
      "[Parallel(n_jobs=10)]: Done 8430 tasks      | elapsed:  2.7min\n",
      "[Parallel(n_jobs=10)]: Done 9780 tasks      | elapsed:  3.1min\n"
     ]
    },
    {
     "name": "stdout",
     "output_type": "stream",
     "text": [
      "[+] SOM fitting finished\n"
     ]
    },
    {
     "name": "stderr",
     "output_type": "stream",
     "text": [
      "[Parallel(n_jobs=10)]: Done 10000 out of 10000 | elapsed:  3.2min finished\n"
     ]
    }
   ],
   "source": [
    "som.fit(X)\n",
    "print(\"[+] SOM fitting finished\")"
   ]
  },
  {
   "cell_type": "markdown",
   "metadata": {},
   "source": [
    "## Save&Load the SOM Model"
   ]
  },
  {
   "cell_type": "markdown",
   "metadata": {},
   "source": [
    "### Save the SOM Model"
   ]
  },
  {
   "cell_type": "code",
   "execution_count": 20,
   "metadata": {},
   "outputs": [
    {
     "name": "stdout",
     "output_type": "stream",
     "text": [
      "'[+] SOM saved to model/som_package.pkl'\n"
     ]
    }
   ],
   "source": [
    "with open('model/som_package.pkl', 'wb') as f: #save the SOM\n",
    "    pkl.dump(som, f)\n",
    "    pprint.pprint(f'[+] SOM saved to model/som_package.pkl')"
   ]
  },
  {
   "cell_type": "markdown",
   "metadata": {},
   "source": [
    "### Load the SOM Model"
   ]
  },
  {
   "cell_type": "code",
   "execution_count": 21,
   "metadata": {},
   "outputs": [
    {
     "name": "stdout",
     "output_type": "stream",
     "text": [
      "'[+] SOM loaded from model/som_package.pkl'\n"
     ]
    }
   ],
   "source": [
    "with open('model/som_package.pkl', 'rb') as f: #load the SOM\n",
    "    som = pkl.load(f)\n",
    "    pprint.pprint(f'[+] SOM loaded from model/som_package.pkl')"
   ]
  },
  {
   "cell_type": "markdown",
   "metadata": {},
   "source": [
    "## Best Matching Unit (BMU)"
   ]
  },
  {
   "cell_type": "code",
   "execution_count": 23,
   "metadata": {},
   "outputs": [
    {
     "name": "stderr",
     "output_type": "stream",
     "text": [
      "[Parallel(n_jobs=10)]: Using backend LokyBackend with 10 concurrent workers.\n",
      "[Parallel(n_jobs=10)]: Done  30 tasks      | elapsed:    5.4s\n",
      "[Parallel(n_jobs=10)]: Done 180 tasks      | elapsed:   16.0s\n",
      "[Parallel(n_jobs=10)]: Done 430 tasks      | elapsed:   34.0s\n",
      "[Parallel(n_jobs=10)]: Done 780 tasks      | elapsed:   58.9s\n",
      "[Parallel(n_jobs=10)]: Done 1230 tasks      | elapsed:  1.5min\n",
      "[Parallel(n_jobs=10)]: Done 1780 tasks      | elapsed:  2.2min\n",
      "[Parallel(n_jobs=10)]: Done 2430 tasks      | elapsed:  3.0min\n",
      "[Parallel(n_jobs=10)]: Done 3180 tasks      | elapsed:  3.9min\n",
      "[Parallel(n_jobs=10)]: Done 4030 tasks      | elapsed:  4.9min\n",
      "[Parallel(n_jobs=10)]: Done 4980 tasks      | elapsed:  6.0min\n",
      "[Parallel(n_jobs=10)]: Done 6030 tasks      | elapsed:  7.2min\n",
      "[Parallel(n_jobs=10)]: Done 7180 tasks      | elapsed:  8.6min\n",
      "[Parallel(n_jobs=10)]: Done 8430 tasks      | elapsed: 10.1min\n",
      "[Parallel(n_jobs=10)]: Done 9780 tasks      | elapsed: 11.7min\n",
      "[Parallel(n_jobs=10)]: Done 10000 out of 10000 | elapsed: 12.0min finished\n"
     ]
    }
   ],
   "source": [
    "best_matching_units_list = som.get_bmus(X) #get the best matching units for each sample"
   ]
  },
  {
   "cell_type": "markdown",
   "metadata": {},
   "source": [
    "## Save&Load the BMU"
   ]
  },
  {
   "cell_type": "markdown",
   "metadata": {},
   "source": [
    "### Save the BMU"
   ]
  },
  {
   "cell_type": "code",
   "execution_count": 47,
   "metadata": {},
   "outputs": [
    {
     "name": "stdout",
     "output_type": "stream",
     "text": [
      "'[+] best_matching_units_list saved to model/BMU/bmu_list_Package.pkl'\n"
     ]
    }
   ],
   "source": [
    "with open('model/BMU/bmu_list_Package.pkl', 'wb') as f:\n",
    "    pkl.dump(best_matching_units_list, f)\n",
    "    pprint.pprint(f'[+] best_matching_units_list saved to model/BMU/bmu_list_Package.pkl')"
   ]
  },
  {
   "cell_type": "markdown",
   "metadata": {},
   "source": [
    "### Load the BMU"
   ]
  },
  {
   "cell_type": "code",
   "execution_count": 48,
   "metadata": {},
   "outputs": [
    {
     "name": "stdout",
     "output_type": "stream",
     "text": [
      "'[+] best_matching_units_list loaded from model/BMU/bmu_list_Package.pkl'\n"
     ]
    }
   ],
   "source": [
    "with open('model/BMU/bmu_list_Package.pkl', 'rb') as f:\n",
    "    best_matching_units_list = pkl.load(f)\n",
    "    pprint.pprint(f'[+] best_matching_units_list loaded from model/BMU/bmu_list_Package.pkl')"
   ]
  },
  {
   "cell_type": "markdown",
   "metadata": {},
   "source": [
    "## Visualize the SOM Model"
   ]
  },
  {
   "cell_type": "markdown",
   "metadata": {},
   "source": [
    "## U-Matrix"
   ]
  },
  {
   "cell_type": "code",
   "execution_count": 28,
   "metadata": {},
   "outputs": [],
   "source": [
    "u_matrix = som.get_u_matrix() #get the U-matrix of the SOM"
   ]
  },
  {
   "cell_type": "markdown",
   "metadata": {},
   "source": [
    "## Data points from each neuron in the SOM Model"
   ]
  },
  {
   "cell_type": "code",
   "execution_count": 31,
   "metadata": {},
   "outputs": [],
   "source": [
    "s = np.zeros(GRID_SIZE) #initialize the s vector\n",
    "for i, j in itertools.product(range(GRID_SIZE[0]), range(GRID_SIZE[1])): #for each neuron in the SOM\n",
    "    s[i][j] = len(som.get_datapoints_from_node([i,j]))"
   ]
  },
  {
   "cell_type": "markdown",
   "metadata": {},
   "source": [
    "## See Min&Max number of data points for each neuron in the SOM Model"
   ]
  },
  {
   "cell_type": "code",
   "execution_count": 33,
   "metadata": {},
   "outputs": [
    {
     "data": {
      "text/plain": [
       "(144.0, 0.0)"
      ]
     },
     "execution_count": 33,
     "metadata": {},
     "output_type": "execute_result"
    }
   ],
   "source": [
    "(np.amax(s), np.amin(s))"
   ]
  },
  {
   "cell_type": "markdown",
   "metadata": {},
   "source": [
    "## check the number of data points for each neuron in the SOM Model"
   ]
  },
  {
   "cell_type": "code",
   "execution_count": 34,
   "metadata": {},
   "outputs": [
    {
     "data": {
      "text/plain": [
       "array([  0.,   0.,   0.,   0.,   0.,   0.,   0.,   0.,   0.,   0.,   0.,\n",
       "         0.,   0.,   0.,   0.,   0.,   0.,   0.,   0.,   0.,   0.,   0.,\n",
       "         0.,   0.,   0.,   0.,   0.,   0.,   0.,   0.,   0.,   0.,   0.,\n",
       "         0.,   0.,   0.,   0.,   0.,   0.,   0.,   0.,   0.,   0.,   0.,\n",
       "         0.,   0.,   1.,   1.,   1.,   1.,   1.,   1.,   1.,   1.,   1.,\n",
       "         1.,   1.,   1.,   1.,   1.,   1.,   1.,   1.,   1.,   1.,   1.,\n",
       "         1.,   1.,   1.,   1.,   1.,   1.,   1.,   1.,   1.,   1.,   1.,\n",
       "         1.,   1.,   1.,   2.,   2.,   2.,   2.,   2.,   2.,   2.,   2.,\n",
       "         2.,   2.,   2.,   2.,   2.,   2.,   2.,   2.,   2.,   2.,   2.,\n",
       "         2.,   2.,   2.,   2.,   2.,   2.,   2.,   2.,   2.,   2.,   2.,\n",
       "         2.,   3.,   3.,   3.,   3.,   3.,   3.,   3.,   3.,   3.,   3.,\n",
       "         3.,   3.,   3.,   3.,   3.,   3.,   3.,   3.,   3.,   3.,   3.,\n",
       "         3.,   3.,   3.,   4.,   4.,   4.,   4.,   4.,   4.,   4.,   4.,\n",
       "         4.,   4.,   4.,   4.,   4.,   4.,   4.,   4.,   4.,   4.,   4.,\n",
       "         4.,   4.,   4.,   5.,   5.,   5.,   5.,   5.,   5.,   5.,   5.,\n",
       "         5.,   5.,   5.,   5.,   5.,   5.,   5.,   6.,   6.,   6.,   6.,\n",
       "         6.,   6.,   6.,   6.,   6.,   6.,   6.,   6.,   6.,   6.,   6.,\n",
       "         7.,   7.,   7.,   7.,   7.,   7.,   7.,   7.,   7.,   7.,   7.,\n",
       "         7.,   8.,   8.,   8.,   8.,   8.,   8.,   8.,   8.,   8.,   8.,\n",
       "         8.,   8.,   8.,   8.,   8.,   8.,   8.,   8.,   8.,   8.,   9.,\n",
       "         9.,   9.,   9.,   9.,   9.,   9.,   9.,  10.,  10.,  10.,  10.,\n",
       "        10.,  10.,  10.,  10.,  10.,  10.,  10.,  10.,  10.,  10.,  11.,\n",
       "        11.,  11.,  11.,  11.,  11.,  11.,  11.,  11.,  11.,  11.,  11.,\n",
       "        11.,  11.,  11.,  11.,  11.,  11.,  12.,  12.,  12.,  12.,  12.,\n",
       "        12.,  12.,  12.,  12.,  12.,  12.,  12.,  12.,  12.,  13.,  13.,\n",
       "        13.,  13.,  13.,  13.,  14.,  14.,  14.,  14.,  14.,  14.,  15.,\n",
       "        15.,  15.,  15.,  15.,  15.,  15.,  15.,  15.,  15.,  15.,  15.,\n",
       "        15.,  16.,  16.,  16.,  16.,  16.,  16.,  16.,  16.,  16.,  16.,\n",
       "        16.,  16.,  16.,  16.,  16.,  17.,  17.,  17.,  17.,  17.,  17.,\n",
       "        17.,  17.,  17.,  18.,  18.,  18.,  18.,  18.,  18.,  18.,  18.,\n",
       "        18.,  18.,  18.,  18.,  19.,  19.,  19.,  19.,  19.,  19.,  19.,\n",
       "        20.,  20.,  20.,  20.,  20.,  20.,  20.,  20.,  20.,  20.,  20.,\n",
       "        20.,  20.,  21.,  21.,  21.,  21.,  21.,  21.,  21.,  21.,  22.,\n",
       "        22.,  22.,  22.,  22.,  22.,  22.,  23.,  23.,  23.,  23.,  23.,\n",
       "        23.,  23.,  23.,  23.,  23.,  23.,  23.,  24.,  24.,  24.,  24.,\n",
       "        24.,  24.,  24.,  24.,  25.,  25.,  25.,  25.,  25.,  26.,  26.,\n",
       "        26.,  26.,  27.,  27.,  27.,  27.,  28.,  28.,  28.,  28.,  28.,\n",
       "        28.,  28.,  29.,  29.,  29.,  29.,  29.,  30.,  30.,  30.,  30.,\n",
       "        30.,  30.,  30.,  31.,  31.,  31.,  31.,  31.,  31.,  32.,  32.,\n",
       "        32.,  32.,  32.,  33.,  34.,  34.,  34.,  34.,  34.,  34.,  34.,\n",
       "        35.,  36.,  36.,  36.,  36.,  36.,  36.,  36.,  37.,  37.,  38.,\n",
       "        38.,  38.,  39.,  39.,  39.,  39.,  40.,  40.,  40.,  40.,  40.,\n",
       "        40.,  41.,  41.,  42.,  42.,  43.,  43.,  43.,  43.,  43.,  43.,\n",
       "        43.,  44.,  44.,  44.,  44.,  44.,  45.,  46.,  46.,  47.,  47.,\n",
       "        48.,  48.,  49.,  51.,  55.,  55.,  56.,  57.,  57.,  57.,  57.,\n",
       "        58.,  58.,  58.,  59.,  59.,  60.,  60.,  62.,  62.,  63.,  63.,\n",
       "        64.,  64.,  64.,  67.,  71.,  72.,  72.,  75.,  78.,  79.,  81.,\n",
       "        81.,  82.,  83.,  94.,  95., 103., 103., 112., 112., 128., 138.,\n",
       "       144.])"
      ]
     },
     "execution_count": 34,
     "metadata": {},
     "output_type": "execute_result"
    }
   ],
   "source": [
    "flat=s.flatten()\n",
    "flat.sort()\n",
    "\n",
    "flat"
   ]
  },
  {
   "cell_type": "markdown",
   "metadata": {},
   "source": [
    "## Plot the U-Matrix"
   ]
  },
  {
   "cell_type": "code",
   "execution_count": 49,
   "metadata": {},
   "outputs": [
    {
     "data": {
      "text/plain": [
       "<AxesSubplot:xlabel='SOM columns', ylabel='SOM rows'>"
      ]
     },
     "execution_count": 49,
     "metadata": {},
     "output_type": "execute_result"
    },
    {
     "data": {
      "image/png": "[encoded data removed]",
      "text/plain": [
       "<Figure size 432x432 with 2 Axes>"
      ]
     },
     "metadata": {
      "needs_background": "light"
     },
     "output_type": "display_data"
    }
   ],
   "source": [
    "plot_som_histogram(bmu_list=best_matching_units_list,n_rows=GRID_SIZE[0],n_columns=GRID_SIZE[1],n_datapoints_cbar=40,fontsize=12)"
   ]
  },
  {
   "cell_type": "markdown",
   "metadata": {},
   "source": [
    "## Plot Distance Matrix"
   ]
  },
  {
   "cell_type": "code",
   "execution_count": 50,
   "metadata": {},
   "outputs": [
    {
     "data": {
      "image/png": "[encoded data removed]",
      "text/plain": [
       "<Figure size 720x576 with 2 Axes>"
      ]
     },
     "metadata": {
      "needs_background": "light"
     },
     "output_type": "display_data"
    }
   ],
   "source": [
    "u_matrix = som.get_u_matrix()\n",
    "cmap=\"CMRmap\"\n",
    "n_rows=GRID_SIZE[0]\n",
    "n_colums=GRID_SIZE[1]\n",
    "fontsize=12\n",
    "_, ax = plt.subplots(figsize=(10, 8))\n",
    "img = ax.imshow(u_matrix.squeeze(), cmap=cmap)\n",
    "ax.set_xticks(np.arange(0, n_colums * 2 + 1, 20))\n",
    "ax.set_xticklabels(np.arange(0, n_colums + 1, 10))\n",
    "ax.set_yticks(np.arange(0, n_rows * 2 + 1, 20))\n",
    "ax.set_yticklabels(np.arange(0, n_rows + 1, 10))\n",
    "\n",
    "# ticks and labels\n",
    "for tick in ax.xaxis.get_major_ticks():\n",
    "    tick.label.set_fontsize(fontsize)\n",
    "for tick in ax.yaxis.get_major_ticks():\n",
    "    tick.label.set_fontsize(fontsize)\n",
    "ax.set_ylabel(\"SOM rows\", fontsize=fontsize)\n",
    "ax.set_xlabel(\"SOM columns\", fontsize=fontsize)\n",
    "\n",
    "# colorbar\n",
    "cbar = plt.colorbar(img, ax=ax, fraction=0.04, pad=0.04)\n",
    "cbar.ax.set_ylabel(\n",
    "    \"Distance measure (a.u.)\", rotation=90, fontsize=fontsize, labelpad=20\n",
    ")\n",
    "cbar.ax.tick_params(labelsize=fontsize)"
   ]
  },
  {
   "cell_type": "code",
   "execution_count": null,
   "metadata": {},
   "outputs": [],
   "source": []
  }
 ],
 "metadata": {
  "kernelspec": {
   "display_name": "Python 3.9.12",
   "language": "python",
   "name": "python3"
  },
  "language_info": {
   "codemirror_mode": {
    "name": "ipython",
    "version": 3
   },
   "file_extension": ".py",
   "mimetype": "text/x-python",
   "name": "python",
   "nbconvert_exporter": "python",
   "pygments_lexer": "ipython3",
   "version": "3.9.12"
  },
  "orig_nbformat": 4,
  "vscode": {
   "interpreter": {
    "hash": "465bf8bf39eb6d29a2a62c1b7df28f314b583a714539b89eff15d00bb86422b4"
   }
  }
 },
 "nbformat": 4,
 "nbformat_minor": 2
}
