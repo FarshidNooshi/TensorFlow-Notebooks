{
 "cells": [
  {
   "cell_type": "markdown",
   "metadata": {},
   "source": [
    "<div align=\"center\">\n",
    "    <h1>In The Name Of GOD</h1>\n",
    "</div>"
   ]
  },
  {
   "cell_type": "markdown",
   "metadata": {},
   "source": [
    "# RCV1 Dataset Visualization with Self Organizing Map"
   ]
  },
  {
   "cell_type": "markdown",
   "metadata": {},
   "source": [
    "## Import Libraries"
   ]
  },
  {
   "cell_type": "code",
   "execution_count": 21,
   "metadata": {},
   "outputs": [],
   "source": [
    "import numpy as np\n",
    "from numpy.ma.core import ceil \n",
    "from sklearn.metrics import DistanceMetric #distance calculation\n",
    "from sklearn.utils import resample #resampling\n",
    "from sklearn.preprocessing import MinMaxScaler, StandardScaler #normalization\n",
    "from sklearn.pipeline import Pipeline #pipeline\n",
    "from sklearn.model_selection import train_test_split #split data\n",
    "from sklearn.metrics import accuracy_score #scoring\n",
    "from sklearn.metrics import confusion_matrix\n",
    "import matplotlib.pyplot as plt\n",
    "from matplotlib import animation, colors\n",
    "from tqdm import tqdm\n",
    "import pprint"
   ]
  },
  {
   "cell_type": "markdown",
   "metadata": {},
   "source": [
    "## Hyper parameters"
   ]
  },
  {
   "cell_type": "code",
   "execution_count": 2,
   "metadata": {},
   "outputs": [],
   "source": [
    "NUM_SAMPLES = 10000 # number of samples to use\n",
    "NUM_NEURONS = (5 * np.sqrt(NUM_SAMPLES)) #number of neurons in the SOM rectangular grid\n",
    "GRID_SIZE = (ceil(np.sqrt(NUM_NEURONS)).astype(np.int32), ceil(np.sqrt(NUM_NEURONS)).astype(np.int32)) #size of the grid\n",
    "NUM_EPOCHS = 1000 #number of epochs to train the SOM\n",
    "BETA0 = 0.5 #initial learning rate\n",
    "MU = 0 # initial mu for normal distribution\n",
    "SIGMA0 = 5 # initial sigma for normal distribution"
   ]
  },
  {
   "cell_type": "markdown",
   "metadata": {},
   "source": [
    "## Helper Functions"
   ]
  },
  {
   "cell_type": "code",
   "execution_count": 3,
   "metadata": {},
   "outputs": [],
   "source": [
    "def normal(x, mu, sigma):\n",
    "    p = 1 / np.sqrt(2 * np.pi * sigma**2)\n",
    "    return p * np.exp(-0.5 / sigma**2 * (x - mu)**2)\n",
    "\n",
    "def get_beta(epoch):\n",
    "    return BETA0 * np.exp(-epoch / NUM_EPOCHS)\n",
    "\n",
    "def update_neurons(grid, best_match_idx, w, epoch): #update the neurons\n",
    "    x, y = np.ogrid[0:GRID_SIZE[0], 0:GRID_SIZE[1]]\n",
    "    # grid = grid + get_beta(epoch) * ((w - grid) * np.)\n",
    "\n",
    "def get_pipeline(scaler=StandardScaler()):\n",
    "    return Pipeline([\n",
    "        ('scaler', scaler)\n",
    "    ])"
   ]
  },
  {
   "cell_type": "markdown",
   "metadata": {},
   "source": [
    "## Import Dataset"
   ]
  },
  {
   "cell_type": "code",
   "execution_count": 4,
   "metadata": {},
   "outputs": [],
   "source": [
    "from sklearn.datasets import fetch_rcv1\n",
    "rcv1 = fetch_rcv1()\n",
    "\n",
    "X, Y = rcv1.data, rcv1.target"
   ]
  },
  {
   "cell_type": "markdown",
   "metadata": {},
   "source": [
    "## Data Preprocessing"
   ]
  },
  {
   "cell_type": "code",
   "execution_count": 5,
   "metadata": {},
   "outputs": [],
   "source": [
    "X_resampled, Y_resampled = resample(X, Y, n_samples=NUM_SAMPLES, random_state=42) #resample data\n",
    "\n",
    "X_train, X_test, Y_train, Y_test = train_test_split(X_resampled, Y_resampled, test_size=0.2, random_state=42) #split data into training and testing sets\n",
    "\n",
    "pipeline = get_pipeline()\n",
    "X_train_pipelined = pipeline.fit_transform(X_train.toarray()) #scale data\n",
    "X_test_pipelined = pipeline.transform(X_test.toarray()) #scale data"
   ]
  },
  {
   "cell_type": "markdown",
   "metadata": {},
   "source": [
    "## Self Organizing Map (SOM) Initialization"
   ]
  },
  {
   "cell_type": "code",
   "execution_count": 6,
   "metadata": {},
   "outputs": [
    {
     "name": "stdout",
     "output_type": "stream",
     "text": [
      "'Grid rectangle is of width and height of (23, 23)'\n",
      "'Neuron grid is of shape (23, 23, 47236)'\n"
     ]
    }
   ],
   "source": [
    "grid = np.random.rand(*GRID_SIZE, X_train_pipelined.shape[1]) #initialize the grid with random values\n",
    "\n",
    "pprint.pprint(f'Grid rectangle is of width and height of {GRID_SIZE}')\n",
    "pprint.pprint(f'Neuron grid is of shape {grid.shape}')"
   ]
  },
  {
   "cell_type": "markdown",
   "metadata": {},
   "source": [
    "## Training Self Organizing Map (SOM)"
   ]
  },
  {
   "cell_type": "code",
   "execution_count": 28,
   "metadata": {},
   "outputs": [
    {
     "name": "stderr",
     "output_type": "stream",
     "text": [
      "Epochs: 100%|██████████| 1000/1000 [00:01<00:00, 729.10it/s]\n"
     ]
    }
   ],
   "source": [
    "for epoch in tqdm(range(NUM_EPOCHS), desc='Epochs', leave=True): #train the SOM\n",
    "    shuffle_idx = np.random.permutation(X_train_pipelined.shape[0]) #shuffle the data\n",
    "    for i in range(X_train_pipelined.shape[0]):\n",
    "        x = X_train_pipelined[shuffle_idx[i]] #get the data\n",
    "        # best_match_idx = np.unravel_index(np.argmin(np.linalg.norm(grid - x, axis=-1)), grid.shape) #find the index of the neuron with the smallest distance to the input\n",
    "        # update_neurons(grid, best_match_idx, x, epoch) #update the neurons\n",
    "        \n",
    "        "
   ]
  },
  {
   "cell_type": "code",
   "execution_count": null,
   "metadata": {},
   "outputs": [],
   "source": []
  }
 ],
 "metadata": {
  "kernelspec": {
   "display_name": "Python 3.9.12",
   "language": "python",
   "name": "python3"
  },
  "language_info": {
   "codemirror_mode": {
    "name": "ipython",
    "version": 3
   },
   "file_extension": ".py",
   "mimetype": "text/x-python",
   "name": "python",
   "nbconvert_exporter": "python",
   "pygments_lexer": "ipython3",
   "version": "3.9.12"
  },
  "orig_nbformat": 4,
  "vscode": {
   "interpreter": {
    "hash": "465bf8bf39eb6d29a2a62c1b7df28f314b583a714539b89eff15d00bb86422b4"
   }
  }
 },
 "nbformat": 4,
 "nbformat_minor": 2
}
