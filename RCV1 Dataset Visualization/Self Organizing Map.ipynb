{
 "cells": [
  {
   "cell_type": "markdown",
   "metadata": {},
   "source": [
    "<div align=\"center\">\n",
    "    <h1>In The Name Of GOD</h1>\n",
    "</div>"
   ]
  },
  {
   "cell_type": "markdown",
   "metadata": {},
   "source": [
    "# RCV1 Dataset Visualization with Self Organizing Map"
   ]
  },
  {
   "cell_type": "markdown",
   "metadata": {},
   "source": [
    "## Import Libraries"
   ]
  },
  {
   "cell_type": "code",
   "execution_count": 35,
   "metadata": {},
   "outputs": [],
   "source": [
    "import numpy as np\n",
    "from numpy.ma.core import ceil \n",
    "from sklearn.metrics import DistanceMetric #distance calculation\n",
    "from sklearn.utils import resample #shuffle data\n",
    "from sklearn.preprocessing import MinMaxScaler, StandardScaler #normalization\n",
    "from sklearn.pipeline import Pipeline #pipeline\n",
    "from sklearn.model_selection import train_test_split #split data\n",
    "from sklearn.metrics import accuracy_score #scoring\n",
    "from sklearn.metrics import confusion_matrix\n",
    "import matplotlib.pyplot as plt\n",
    "from matplotlib import animation, colors\n",
    "import pprint"
   ]
  },
  {
   "cell_type": "markdown",
   "metadata": {},
   "source": [
    "## Hyper parameters"
   ]
  },
  {
   "cell_type": "code",
   "execution_count": 36,
   "metadata": {},
   "outputs": [],
   "source": [
    "NUM_SAMPLES = 10000 # number of samples to use\n",
    "NUM_NEURONS = (5 * np.sqrt(NUM_SAMPLES)) #number of neurons in the SOM rectangular grid\n",
    "GRID_SIZE = (ceil(np.sqrt(NUM_NEURONS)).astype(np.int32), ceil(np.sqrt(NUM_NEURONS)).astype(np.int32)) #size of the grid\n",
    "NUM_EPOCHS = 1000 #number of epochs to train the SOM\n",
    "BETA0 = 0.5 #initial learning rate\n",
    "MU = 0 # initial mu for normal distribution\n",
    "SIGMA = 5 # initial sigma for normal distribution"
   ]
  },
  {
   "cell_type": "markdown",
   "metadata": {},
   "source": [
    "## Helper Functions"
   ]
  },
  {
   "cell_type": "code",
   "execution_count": 64,
   "metadata": {},
   "outputs": [],
   "source": [
    "def normal(x, mu, sigma):\n",
    "    p = 1 / np.sqrt(2 * np.pi * sigma**2)\n",
    "    return p * np.exp(-0.5 / sigma**2 * (x - mu)**2)\n",
    "\n",
    "def ns_value(source, neighbor):\n",
    "    distance = DistanceMetric.get_metric('euclidean')\n",
    "    dist = distance.pairwise(source, neighbor)\n",
    "    return normal(dist, MU, SIGMA)\n",
    "\n",
    "def get_beta(epoch):\n",
    "    return BETA0 * np.exp(-epoch / NUM_EPOCHS)\n",
    "\n",
    "vectorized_ns_value = np.vectorize(ns_value, excluded=['source'], signature='(n),(n)->()')\n",
    "\n",
    "def update_neurons(grid, best_match_idx, w, epoch): #update the neurons\n",
    "    grid = grid + get_beta(epoch) * vectorized_ns_value(source=grid[best_match_idx], neighbor=grid)\n",
    "\n",
    "\n",
    "def get_pipeline(scaler=StandardScaler()):\n",
    "    return Pipeline([\n",
    "        ('scaler', scaler)\n",
    "    ])"
   ]
  },
  {
   "cell_type": "code",
   "execution_count": 65,
   "metadata": {},
   "outputs": [
    {
     "ename": "TypeError",
     "evalue": "wrong number of positional arguments: expected 2, got 1",
     "output_type": "error",
     "traceback": [
      "\u001b[0;31m---------------------------------------------------------------------------\u001b[0m",
      "\u001b[0;31mTypeError\u001b[0m                                 Traceback (most recent call last)",
      "\u001b[1;32m/Volumes/Farshid_SSD/Projects/Tensorflow-notebooks/RCV1 Dataset Visualization/Self Organizing Map.ipynb Cell 9\u001b[0m in \u001b[0;36m<cell line: 5>\u001b[0;34m()\u001b[0m\n\u001b[1;32m      <a href='vscode-notebook-cell:/Volumes/Farshid_SSD/Projects/Tensorflow-notebooks/RCV1%20Dataset%20Visualization/Self%20Organizing%20Map.ipynb#X33sZmlsZQ%3D%3D?line=2'>3</a>\u001b[0m distance \u001b[39m=\u001b[39m DistanceMetric\u001b[39m.\u001b[39mget_metric(\u001b[39m'\u001b[39m\u001b[39meuclidean\u001b[39m\u001b[39m'\u001b[39m)\n\u001b[1;32m      <a href='vscode-notebook-cell:/Volumes/Farshid_SSD/Projects/Tensorflow-notebooks/RCV1%20Dataset%20Visualization/Self%20Organizing%20Map.ipynb#X33sZmlsZQ%3D%3D?line=3'>4</a>\u001b[0m distance\u001b[39m.\u001b[39mpairwise(source, neighbor)\n\u001b[0;32m----> <a href='vscode-notebook-cell:/Volumes/Farshid_SSD/Projects/Tensorflow-notebooks/RCV1%20Dataset%20Visualization/Self%20Organizing%20Map.ipynb#X33sZmlsZQ%3D%3D?line=4'>5</a>\u001b[0m vectorized_ns_value(neighbor\u001b[39m=\u001b[39;49mneighbor)\n",
      "File \u001b[0;32m~/miniforge3/envs/env_ml/lib/python3.9/site-packages/numpy/lib/function_base.py:2304\u001b[0m, in \u001b[0;36mvectorize.__call__\u001b[0;34m(self, *args, **kwargs)\u001b[0m\n\u001b[1;32m   2301\u001b[0m     vargs \u001b[39m=\u001b[39m [args[_i] \u001b[39mfor\u001b[39;00m _i \u001b[39min\u001b[39;00m inds]\n\u001b[1;32m   2302\u001b[0m     vargs\u001b[39m.\u001b[39mextend([kwargs[_n] \u001b[39mfor\u001b[39;00m _n \u001b[39min\u001b[39;00m names])\n\u001b[0;32m-> 2304\u001b[0m \u001b[39mreturn\u001b[39;00m \u001b[39mself\u001b[39;49m\u001b[39m.\u001b[39;49m_vectorize_call(func\u001b[39m=\u001b[39;49mfunc, args\u001b[39m=\u001b[39;49mvargs)\n",
      "File \u001b[0;32m~/miniforge3/envs/env_ml/lib/python3.9/site-packages/numpy/lib/function_base.py:2378\u001b[0m, in \u001b[0;36mvectorize._vectorize_call\u001b[0;34m(self, func, args)\u001b[0m\n\u001b[1;32m   2376\u001b[0m \u001b[39m\"\"\"Vectorized call to `func` over positional `args`.\"\"\"\u001b[39;00m\n\u001b[1;32m   2377\u001b[0m \u001b[39mif\u001b[39;00m \u001b[39mself\u001b[39m\u001b[39m.\u001b[39msignature \u001b[39mis\u001b[39;00m \u001b[39mnot\u001b[39;00m \u001b[39mNone\u001b[39;00m:\n\u001b[0;32m-> 2378\u001b[0m     res \u001b[39m=\u001b[39m \u001b[39mself\u001b[39;49m\u001b[39m.\u001b[39;49m_vectorize_call_with_signature(func, args)\n\u001b[1;32m   2379\u001b[0m \u001b[39melif\u001b[39;00m \u001b[39mnot\u001b[39;00m args:\n\u001b[1;32m   2380\u001b[0m     res \u001b[39m=\u001b[39m func()\n",
      "File \u001b[0;32m~/miniforge3/envs/env_ml/lib/python3.9/site-packages/numpy/lib/function_base.py:2401\u001b[0m, in \u001b[0;36mvectorize._vectorize_call_with_signature\u001b[0;34m(self, func, args)\u001b[0m\n\u001b[1;32m   2398\u001b[0m input_core_dims, output_core_dims \u001b[39m=\u001b[39m \u001b[39mself\u001b[39m\u001b[39m.\u001b[39m_in_and_out_core_dims\n\u001b[1;32m   2400\u001b[0m \u001b[39mif\u001b[39;00m \u001b[39mlen\u001b[39m(args) \u001b[39m!=\u001b[39m \u001b[39mlen\u001b[39m(input_core_dims):\n\u001b[0;32m-> 2401\u001b[0m     \u001b[39mraise\u001b[39;00m \u001b[39mTypeError\u001b[39;00m(\u001b[39m'\u001b[39m\u001b[39mwrong number of positional arguments: \u001b[39m\u001b[39m'\u001b[39m\n\u001b[1;32m   2402\u001b[0m                     \u001b[39m'\u001b[39m\u001b[39mexpected \u001b[39m\u001b[39m%r\u001b[39;00m\u001b[39m, got \u001b[39m\u001b[39m%r\u001b[39;00m\u001b[39m'\u001b[39m\n\u001b[1;32m   2403\u001b[0m                     \u001b[39m%\u001b[39m (\u001b[39mlen\u001b[39m(input_core_dims), \u001b[39mlen\u001b[39m(args)))\n\u001b[1;32m   2404\u001b[0m args \u001b[39m=\u001b[39m \u001b[39mtuple\u001b[39m(asanyarray(arg) \u001b[39mfor\u001b[39;00m arg \u001b[39min\u001b[39;00m args)\n\u001b[1;32m   2406\u001b[0m broadcast_shape, dim_sizes \u001b[39m=\u001b[39m _parse_input_dimensions(\n\u001b[1;32m   2407\u001b[0m     args, input_core_dims)\n",
      "\u001b[0;31mTypeError\u001b[0m: wrong number of positional arguments: expected 2, got 1"
     ]
    }
   ],
   "source": [
    "source = np.random.normal(size=(1, 4))\n",
    "neighbor = np.random.normal(size=(4, 4))\n",
    "distance = DistanceMetric.get_metric('euclidean')\n",
    "distance.pairwise(source, neighbor)\n",
    "vectorized_ns_value(neighbor=neighbor)"
   ]
  },
  {
   "cell_type": "markdown",
   "metadata": {},
   "source": [
    "## Import Dataset"
   ]
  },
  {
   "cell_type": "code",
   "execution_count": 38,
   "metadata": {},
   "outputs": [],
   "source": [
    "from sklearn.datasets import fetch_rcv1\n",
    "rcv1 = fetch_rcv1()\n",
    "\n",
    "X, Y = rcv1.data, rcv1.target"
   ]
  },
  {
   "cell_type": "markdown",
   "metadata": {},
   "source": [
    "## Data Preprocessing"
   ]
  },
  {
   "cell_type": "code",
   "execution_count": 39,
   "metadata": {},
   "outputs": [],
   "source": [
    "X_resampled, Y_resampled = resample(X, Y, n_samples=NUM_SAMPLES, random_state=42) #resample data\n",
    "\n",
    "X_train, X_test, Y_train, Y_test = train_test_split(X_resampled, Y_resampled, test_size=0.2, random_state=42) #split data into training and testing sets\n",
    "\n",
    "pipeline = get_pipeline()\n",
    "X_train_pipelined = pipeline.fit_transform(X_train.toarray()) #scale data\n",
    "X_test_pipelined = pipeline.transform(X_test.toarray()) #scale data"
   ]
  },
  {
   "cell_type": "markdown",
   "metadata": {},
   "source": [
    "## Self Organizing Map (SOM) Initialization"
   ]
  },
  {
   "cell_type": "code",
   "execution_count": 40,
   "metadata": {},
   "outputs": [
    {
     "name": "stdout",
     "output_type": "stream",
     "text": [
      "'Grid rectangle is of width and height of (23, 23)'\n",
      "'Neuron grid is of shape (23, 23, 47236)'\n"
     ]
    }
   ],
   "source": [
    "grid = np.random.rand(*GRID_SIZE, X_train_pipelined.shape[1]) #initialize the grid with random values\n",
    "\n",
    "pprint.pprint(f'Grid rectangle is of width and height of {GRID_SIZE}')\n",
    "pprint.pprint(f'Neuron grid is of shape {grid.shape}')"
   ]
  },
  {
   "cell_type": "markdown",
   "metadata": {},
   "source": [
    "## Training Self Organizing Map (SOM)"
   ]
  },
  {
   "cell_type": "code",
   "execution_count": 41,
   "metadata": {},
   "outputs": [
    {
     "ename": "ValueError",
     "evalue": "Buffer has wrong number of dimensions (expected 2, got 0)",
     "output_type": "error",
     "traceback": [
      "\u001b[0;31m---------------------------------------------------------------------------\u001b[0m",
      "\u001b[0;31mValueError\u001b[0m                                Traceback (most recent call last)",
      "\u001b[1;32m/Volumes/Farshid_SSD/Projects/Tensorflow-notebooks/RCV1 Dataset Visualization/Self Organizing Map.ipynb Cell 16\u001b[0m in \u001b[0;36m<cell line: 1>\u001b[0;34m()\u001b[0m\n\u001b[1;32m      <a href='vscode-notebook-cell:/Volumes/Farshid_SSD/Projects/Tensorflow-notebooks/RCV1%20Dataset%20Visualization/Self%20Organizing%20Map.ipynb#X16sZmlsZQ%3D%3D?line=2'>3</a>\u001b[0m x \u001b[39m=\u001b[39m X_train_pipelined[i]\n\u001b[1;32m      <a href='vscode-notebook-cell:/Volumes/Farshid_SSD/Projects/Tensorflow-notebooks/RCV1%20Dataset%20Visualization/Self%20Organizing%20Map.ipynb#X16sZmlsZQ%3D%3D?line=3'>4</a>\u001b[0m best_match_idx \u001b[39m=\u001b[39m np\u001b[39m.\u001b[39munravel_index(np\u001b[39m.\u001b[39margmin(np\u001b[39m.\u001b[39mlinalg\u001b[39m.\u001b[39mnorm(grid \u001b[39m-\u001b[39m x, axis\u001b[39m=\u001b[39m\u001b[39m1\u001b[39m)), grid\u001b[39m.\u001b[39mshape) \u001b[39m#find the index of the neuron with the smallest distance to the input\u001b[39;00m\n\u001b[0;32m----> <a href='vscode-notebook-cell:/Volumes/Farshid_SSD/Projects/Tensorflow-notebooks/RCV1%20Dataset%20Visualization/Self%20Organizing%20Map.ipynb#X16sZmlsZQ%3D%3D?line=4'>5</a>\u001b[0m update_neurons(grid, best_match_idx, x, epoch)\n",
      "\u001b[1;32m/Volumes/Farshid_SSD/Projects/Tensorflow-notebooks/RCV1 Dataset Visualization/Self Organizing Map.ipynb Cell 16\u001b[0m in \u001b[0;36mupdate_neurons\u001b[0;34m(grid, best_match_idx, w, epoch)\u001b[0m\n\u001b[1;32m     <a href='vscode-notebook-cell:/Volumes/Farshid_SSD/Projects/Tensorflow-notebooks/RCV1%20Dataset%20Visualization/Self%20Organizing%20Map.ipynb#X16sZmlsZQ%3D%3D?line=14'>15</a>\u001b[0m \u001b[39mdef\u001b[39;00m \u001b[39mupdate_neurons\u001b[39m(grid, best_match_idx, w, epoch): \u001b[39m#update the neurons\u001b[39;00m\n\u001b[0;32m---> <a href='vscode-notebook-cell:/Volumes/Farshid_SSD/Projects/Tensorflow-notebooks/RCV1%20Dataset%20Visualization/Self%20Organizing%20Map.ipynb#X16sZmlsZQ%3D%3D?line=15'>16</a>\u001b[0m     grid \u001b[39m=\u001b[39m grid \u001b[39m+\u001b[39m get_beta(epoch) \u001b[39m*\u001b[39m vectorized_ns_value(source\u001b[39m=\u001b[39;49mgrid[best_match_idx], neighbor\u001b[39m=\u001b[39;49mgrid)\n",
      "File \u001b[0;32m~/miniforge3/envs/env_ml/lib/python3.9/site-packages/numpy/lib/function_base.py:2304\u001b[0m, in \u001b[0;36mvectorize.__call__\u001b[0;34m(self, *args, **kwargs)\u001b[0m\n\u001b[1;32m   2301\u001b[0m     vargs \u001b[39m=\u001b[39m [args[_i] \u001b[39mfor\u001b[39;00m _i \u001b[39min\u001b[39;00m inds]\n\u001b[1;32m   2302\u001b[0m     vargs\u001b[39m.\u001b[39mextend([kwargs[_n] \u001b[39mfor\u001b[39;00m _n \u001b[39min\u001b[39;00m names])\n\u001b[0;32m-> 2304\u001b[0m \u001b[39mreturn\u001b[39;00m \u001b[39mself\u001b[39;49m\u001b[39m.\u001b[39;49m_vectorize_call(func\u001b[39m=\u001b[39;49mfunc, args\u001b[39m=\u001b[39;49mvargs)\n",
      "File \u001b[0;32m~/miniforge3/envs/env_ml/lib/python3.9/site-packages/numpy/lib/function_base.py:2382\u001b[0m, in \u001b[0;36mvectorize._vectorize_call\u001b[0;34m(self, func, args)\u001b[0m\n\u001b[1;32m   2380\u001b[0m     res \u001b[39m=\u001b[39m func()\n\u001b[1;32m   2381\u001b[0m \u001b[39melse\u001b[39;00m:\n\u001b[0;32m-> 2382\u001b[0m     ufunc, otypes \u001b[39m=\u001b[39m \u001b[39mself\u001b[39;49m\u001b[39m.\u001b[39;49m_get_ufunc_and_otypes(func\u001b[39m=\u001b[39;49mfunc, args\u001b[39m=\u001b[39;49margs)\n\u001b[1;32m   2384\u001b[0m     \u001b[39m# Convert args to object arrays first\u001b[39;00m\n\u001b[1;32m   2385\u001b[0m     inputs \u001b[39m=\u001b[39m [asanyarray(a, dtype\u001b[39m=\u001b[39m\u001b[39mobject\u001b[39m) \u001b[39mfor\u001b[39;00m a \u001b[39min\u001b[39;00m args]\n",
      "File \u001b[0;32m~/miniforge3/envs/env_ml/lib/python3.9/site-packages/numpy/lib/function_base.py:2342\u001b[0m, in \u001b[0;36mvectorize._get_ufunc_and_otypes\u001b[0;34m(self, func, args)\u001b[0m\n\u001b[1;32m   2338\u001b[0m     \u001b[39mraise\u001b[39;00m \u001b[39mValueError\u001b[39;00m(\u001b[39m'\u001b[39m\u001b[39mcannot call `vectorize` on size 0 inputs \u001b[39m\u001b[39m'\u001b[39m\n\u001b[1;32m   2339\u001b[0m                      \u001b[39m'\u001b[39m\u001b[39munless `otypes` is set\u001b[39m\u001b[39m'\u001b[39m)\n\u001b[1;32m   2341\u001b[0m inputs \u001b[39m=\u001b[39m [arg\u001b[39m.\u001b[39mflat[\u001b[39m0\u001b[39m] \u001b[39mfor\u001b[39;00m arg \u001b[39min\u001b[39;00m args]\n\u001b[0;32m-> 2342\u001b[0m outputs \u001b[39m=\u001b[39m func(\u001b[39m*\u001b[39;49minputs)\n\u001b[1;32m   2344\u001b[0m \u001b[39m# Performance note: profiling indicates that -- for simple\u001b[39;00m\n\u001b[1;32m   2345\u001b[0m \u001b[39m# functions at least -- this wrapping can almost double the\u001b[39;00m\n\u001b[1;32m   2346\u001b[0m \u001b[39m# execution time.\u001b[39;00m\n\u001b[1;32m   2347\u001b[0m \u001b[39m# Hence we make it optional.\u001b[39;00m\n\u001b[1;32m   2348\u001b[0m \u001b[39mif\u001b[39;00m \u001b[39mself\u001b[39m\u001b[39m.\u001b[39mcache:\n",
      "File \u001b[0;32m~/miniforge3/envs/env_ml/lib/python3.9/site-packages/numpy/lib/function_base.py:2299\u001b[0m, in \u001b[0;36mvectorize.__call__.<locals>.func\u001b[0;34m(*vargs)\u001b[0m\n\u001b[1;32m   2297\u001b[0m     the_args[_i] \u001b[39m=\u001b[39m vargs[_n]\n\u001b[1;32m   2298\u001b[0m kwargs\u001b[39m.\u001b[39mupdate(\u001b[39mzip\u001b[39m(names, vargs[\u001b[39mlen\u001b[39m(inds):]))\n\u001b[0;32m-> 2299\u001b[0m \u001b[39mreturn\u001b[39;00m \u001b[39mself\u001b[39;49m\u001b[39m.\u001b[39;49mpyfunc(\u001b[39m*\u001b[39;49mthe_args, \u001b[39m*\u001b[39;49m\u001b[39m*\u001b[39;49mkwargs)\n",
      "\u001b[1;32m/Volumes/Farshid_SSD/Projects/Tensorflow-notebooks/RCV1 Dataset Visualization/Self Organizing Map.ipynb Cell 16\u001b[0m in \u001b[0;36mns_value\u001b[0;34m(source, neighbor)\u001b[0m\n\u001b[1;32m      <a href='vscode-notebook-cell:/Volumes/Farshid_SSD/Projects/Tensorflow-notebooks/RCV1%20Dataset%20Visualization/Self%20Organizing%20Map.ipynb#X16sZmlsZQ%3D%3D?line=4'>5</a>\u001b[0m \u001b[39mdef\u001b[39;00m \u001b[39mns_value\u001b[39m(source, neighbor):\n\u001b[1;32m      <a href='vscode-notebook-cell:/Volumes/Farshid_SSD/Projects/Tensorflow-notebooks/RCV1%20Dataset%20Visualization/Self%20Organizing%20Map.ipynb#X16sZmlsZQ%3D%3D?line=5'>6</a>\u001b[0m     distance \u001b[39m=\u001b[39m DistanceMetric\u001b[39m.\u001b[39mget_metric(\u001b[39m'\u001b[39m\u001b[39meuclidean\u001b[39m\u001b[39m'\u001b[39m)\n\u001b[0;32m----> <a href='vscode-notebook-cell:/Volumes/Farshid_SSD/Projects/Tensorflow-notebooks/RCV1%20Dataset%20Visualization/Self%20Organizing%20Map.ipynb#X16sZmlsZQ%3D%3D?line=6'>7</a>\u001b[0m     dist \u001b[39m=\u001b[39m distance\u001b[39m.\u001b[39;49mpairwise(source, neighbor)\n\u001b[1;32m      <a href='vscode-notebook-cell:/Volumes/Farshid_SSD/Projects/Tensorflow-notebooks/RCV1%20Dataset%20Visualization/Self%20Organizing%20Map.ipynb#X16sZmlsZQ%3D%3D?line=7'>8</a>\u001b[0m     \u001b[39mreturn\u001b[39;00m normal(dist, MU, SIGMA)\n",
      "File \u001b[0;32msklearn/metrics/_dist_metrics.pyx:414\u001b[0m, in \u001b[0;36msklearn.metrics._dist_metrics.DistanceMetric.pairwise\u001b[0;34m()\u001b[0m\n",
      "\u001b[0;31mValueError\u001b[0m: Buffer has wrong number of dimensions (expected 2, got 0)"
     ]
    }
   ],
   "source": [
    "for epoch in range(NUM_EPOCHS):\n",
    "    for i in range(X_train_pipelined.shape[0]):\n",
    "        x = X_train_pipelined[i]\n",
    "        best_match_idx = np.unravel_index(np.argmin(np.linalg.norm(grid - x, axis=1)), grid.shape) #find the index of the neuron with the smallest distance to the input\n",
    "        update_neurons(grid, best_match_idx, x, epoch) #update the neurons\n",
    "        \n",
    "        "
   ]
  },
  {
   "cell_type": "code",
   "execution_count": null,
   "metadata": {},
   "outputs": [],
   "source": []
  }
 ],
 "metadata": {
  "kernelspec": {
   "display_name": "Python 3.9.12",
   "language": "python",
   "name": "python3"
  },
  "language_info": {
   "codemirror_mode": {
    "name": "ipython",
    "version": 3
   },
   "file_extension": ".py",
   "mimetype": "text/x-python",
   "name": "python",
   "nbconvert_exporter": "python",
   "pygments_lexer": "ipython3",
   "version": "3.9.12"
  },
  "orig_nbformat": 4,
  "vscode": {
   "interpreter": {
    "hash": "465bf8bf39eb6d29a2a62c1b7df28f314b583a714539b89eff15d00bb86422b4"
   }
  }
 },
 "nbformat": 4,
 "nbformat_minor": 2
}
