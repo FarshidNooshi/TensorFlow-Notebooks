{
 "cells": [
  {
   "cell_type": "markdown",
   "metadata": {},
   "source": [
    "<div align=\"center\">\n",
    "    <h1>In The Name Of GOD</h1>\n",
    "</div>"
   ]
  },
  {
   "cell_type": "markdown",
   "metadata": {},
   "source": [
    "# RCV1 Dataset Visualization with Self Organizing Map"
   ]
  },
  {
   "cell_type": "markdown",
   "metadata": {},
   "source": [
    "## Import Libraries"
   ]
  },
  {
   "cell_type": "code",
   "execution_count": null,
   "metadata": {},
   "outputs": [],
   "source": [
    "import numpy as np\n",
    "from numpy.ma.core import ceil \n",
    "from numpy import linalg as LA\n",
    "from numpy import argmin, unravel_index, sqrt, ogrid, newaxis\n",
    "from sklearn.metrics import DistanceMetric #distance calculation\n",
    "from sklearn.utils import resample #resampling\n",
    "from sklearn.preprocessing import MinMaxScaler, StandardScaler #normalization\n",
    "from sklearn.pipeline import Pipeline #pipeline\n",
    "from sklearn.model_selection import train_test_split #split data\n",
    "from sklearn.metrics import accuracy_score #scoring\n",
    "from sklearn.metrics import confusion_matrix\n",
    "import matplotlib.pyplot as plt\n",
    "from matplotlib import animation, colors\n",
    "from tqdm import tqdm\n",
    "import pprint"
   ]
  },
  {
   "cell_type": "markdown",
   "metadata": {},
   "source": [
    "## Hyper parameters"
   ]
  },
  {
   "cell_type": "code",
   "execution_count": null,
   "metadata": {},
   "outputs": [],
   "source": [
    "NUM_SAMPLES = 10000 # number of samples to use\n",
    "NUM_NEURONS = (5 * np.sqrt(NUM_SAMPLES)) #number of neurons in the SOM rectangular grid\n",
    "GRID_SIZE = (ceil(np.sqrt(NUM_NEURONS)).astype(np.int32), ceil(np.sqrt(NUM_NEURONS)).astype(np.int32)) #size of the grid\n",
    "NUM_ITERS = 1000 #number of iterations to run the SOM\n",
    "BETA0 = 0.5 #initial learning rate\n",
    "MU = 0 # initial mu for normal distribution\n",
    "SIGMA0 = 10 # initial sigma for normal distribution"
   ]
  },
  {
   "cell_type": "markdown",
   "metadata": {},
   "source": [
    "## Helper Functions"
   ]
  },
  {
   "cell_type": "code",
   "execution_count": null,
   "metadata": {},
   "outputs": [],
   "source": [
    "def normal(x, mu, sigma): #calculate the normal distribution\n",
    "    p = np.divide(1, np.sqrt(2 * np.pi * sigma**2))\n",
    "    return np.multiply(p, np.exp(-0.5 / sigma**2 * (x - mu)**2))\n",
    "\n",
    "def get_beta(epoch): #get the learning rate for the SOM\n",
    "    return BETA0 * np.exp(-epoch / NUM_ITERS)\n",
    "\n",
    "def get_sigma(epoch): #get the sigma for the normal distribution\n",
    "    return SIGMA0 * np.exp(-epoch / NUM_ITERS)\n",
    "\n",
    "def expand(x, shape): #expand the normal distribution to the grid size\n",
    "    return np.tile(x[:, :, newaxis], (1, 1, shape))\n",
    "\n",
    "def update_neurons(grid, best_match_idx, w, epoch): #update the neurons\n",
    "    x0, y0 = best_match_idx #get the coordinates of the best match\n",
    "    x, y = ogrid[0:GRID_SIZE[0], 0:GRID_SIZE[1]] #create a grid of coordinates\n",
    "    distance_to_best_idx = sqrt(np.power((x - x0), 2) + np.power((y - y0), 2)) #calculate the distance between the neurons and the best match\n",
    "    \n",
    "    sigma = get_sigma(epoch) #get the sigma for the normal distribution\n",
    "    ns_values = normal(distance_to_best_idx, MU, sigma) #calculate the normal distribution\n",
    "    expand(ns_values, grid.shape[-1]) #expand the normal distribution to the grid size\n",
    "    \n",
    "    coefficient = np.tile(normal(ns_values, MU, get_sigma(epoch)), grid.shape) #calculate the coff for the neurons\n",
    "    distances = coefficient * (grid - w) #calculate the distance between the neurons and the input\n",
    "    \n",
    "    grid = grid + get_beta(epoch) * distances #update the neurons\n",
    "\n",
    "def find_winning_neuron(grid, x): #find the winning neuron\n",
    "    distances = LA.norm(grid - x, axis=-1) #calculate the distance between the neurons and the input\n",
    "    return unravel_index(argmin(distances), grid.shape[0:-1])\n",
    "\n",
    "def get_pipeline(scaler=StandardScaler()): #create a pipeline for the data\n",
    "    return Pipeline([\n",
    "        ('scaler', scaler)\n",
    "    ])"
   ]
  },
  {
   "cell_type": "markdown",
   "metadata": {},
   "source": [
    "## Import Dataset"
   ]
  },
  {
   "cell_type": "code",
   "execution_count": null,
   "metadata": {},
   "outputs": [],
   "source": [
    "from sklearn.datasets import fetch_rcv1 #fetch the RCV1 dataset\n",
    "rcv1 = fetch_rcv1() \n",
    "\n",
    "X, Y = rcv1.data, rcv1.target"
   ]
  },
  {
   "cell_type": "markdown",
   "metadata": {},
   "source": [
    "## Data Preprocessing"
   ]
  },
  {
   "cell_type": "code",
   "execution_count": null,
   "metadata": {},
   "outputs": [],
   "source": [
    "X_resampled, Y_resampled = resample(X, Y, n_samples=NUM_SAMPLES, random_state=42) #resample data\n",
    "\n",
    "X_train, X_test, Y_train, Y_test = train_test_split(X_resampled, Y_resampled, test_size=0.2, random_state=42) #split data into training and testing sets\n",
    "\n",
    "pipeline = get_pipeline()\n",
    "X_train_pipelined = pipeline.fit_transform(X_train.toarray()) #scale data\n",
    "X_test_pipelined = pipeline.transform(X_test.toarray()) #scale data"
   ]
  },
  {
   "cell_type": "markdown",
   "metadata": {},
   "source": [
    "## Self Organizing Map (SOM) Initialization"
   ]
  },
  {
   "cell_type": "code",
   "execution_count": null,
   "metadata": {},
   "outputs": [],
   "source": [
    "grid = np.random.rand(*GRID_SIZE, X_train_pipelined.shape[1]) #initialize the grid with random values\n",
    "\n",
    "pprint.pprint(f'Grid rectangle is of width and height of {GRID_SIZE}')\n",
    "pprint.pprint(f'Neuron grid is of shape {grid.shape}')"
   ]
  },
  {
   "cell_type": "markdown",
   "metadata": {},
   "source": [
    "## Training Self Organizing Map (SOM)"
   ]
  },
  {
   "cell_type": "code",
   "execution_count": null,
   "metadata": {},
   "outputs": [],
   "source": [
    "for epoch in tqdm(range(NUM_ITERS), desc='Epochs', leave=True): #train the SOM\n",
    "    rnd_idx = np.random.randint(0, X_train_pipelined.shape[0]) #get a random index\n",
    "    x = X_train_pipelined[rnd_idx] #get the data\n",
    "    best_match_idx = find_winning_neuron(grid, x) #find the index of the neuron with the smallest distance to the input\n",
    "    update_neurons(grid, best_match_idx, x, epoch) #update the neurons"
   ]
  },
  {
   "cell_type": "code",
   "execution_count": null,
   "metadata": {},
   "outputs": [],
   "source": [
    "tt_grid = np.arange(15).reshape(5, 3, 1)\n",
    "\n",
    "tt_w = [3, 40]\n",
    "\n",
    "# pprint.pprint(tt_grid)\n",
    "pprint.pprint(np.sum((tt_grid - tt_w)**2, axis=-1))\n",
    "# pprint.pprint(f'the norm of differences is = \\n{np.linalg.norm(tt_grid - tt_w, axis=-1)}')\n",
    "\n",
    "\n",
    "# np.unravel_index(np.argmin(np.linalg.norm(tt_grid - tt_w, axis=-1)), shape=tt_grid.shape[0:-1])\n"
   ]
  },
  {
   "cell_type": "code",
   "execution_count": null,
   "metadata": {},
   "outputs": [],
   "source": [
    "xx = np.arange(6).reshape(2, 3)\n",
    "\n",
    "pprint.pprint(xx)\n",
    "pprint.pprint('############################')\n",
    "\n",
    "np.expand_dims(xx, axis=(0, 1))\n",
    "\n",
    "xx = xx[:, :, newaxis]\n",
    "np.tile(xx, (1, 1, 2))\n",
    "\n",
    "print(np.tile(xx, (2, 3, 2)))\n",
    "\n",
    "# pprint.pprint(np.tile(xx, (1, 1, 2)))\n",
    "\n"
   ]
  },
  {
   "cell_type": "code",
   "execution_count": null,
   "metadata": {},
   "outputs": [],
   "source": [
    "\n",
    "x0, y0 = (1, 2) #get the coordinates of the best match\n",
    "x, y = ogrid[0:4, 0:4] #create a grid of coordinates\n",
    "distance_to_best_idx = sqrt((x - x0) ** 2 + (y - y0) ** 2) #calculate the distance between the neurons and the best match\n",
    "\n",
    "distance_to_best_idx"
   ]
  },
  {
   "cell_type": "code",
   "execution_count": null,
   "metadata": {},
   "outputs": [],
   "source": []
  }
 ],
 "metadata": {
  "kernelspec": {
   "display_name": "Python 3.9.12",
   "language": "python",
   "name": "python3"
  },
  "language_info": {
   "codemirror_mode": {
    "name": "ipython",
    "version": 3
   },
   "file_extension": ".py",
   "mimetype": "text/x-python",
   "name": "python",
   "nbconvert_exporter": "python",
   "pygments_lexer": "ipython3",
   "version": "3.9.12"
  },
  "orig_nbformat": 4,
  "vscode": {
   "interpreter": {
    "hash": "465bf8bf39eb6d29a2a62c1b7df28f314b583a714539b89eff15d00bb86422b4"
   }
  }
 },
 "nbformat": 4,
 "nbformat_minor": 2
}
